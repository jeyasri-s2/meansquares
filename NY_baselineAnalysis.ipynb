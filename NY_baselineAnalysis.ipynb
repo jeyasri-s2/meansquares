{
  "nbformat": 4,
  "nbformat_minor": 0,
  "metadata": {
    "colab": {
      "name": "NY-baselineAnalysis.ipynb",
      "provenance": [],
      "toc_visible": true,
      "include_colab_link": true
    },
    "kernelspec": {
      "name": "python3",
      "display_name": "Python 3"
    }
  },
  "cells": [
    {
      "cell_type": "markdown",
      "metadata": {
        "id": "view-in-github",
        "colab_type": "text"
      },
      "source": [
        "<a href=\"https://colab.research.google.com/github/aarsanjani/meansquares/blob/master/NY_baselineAnalysis.ipynb\" target=\"_parent\"><img src=\"https://colab.research.google.com/assets/colab-badge.svg\" alt=\"Open In Colab\"/></a>"
      ]
    },
    {
      "cell_type": "markdown",
      "metadata": {
        "id": "jTNRJb0dk6G-",
        "colab_type": "text"
      },
      "source": [
        "New york state has reduced the Covid-19 cases. We have investigated the mask, social distancing, mobility data for NY state"
      ]
    },
    {
      "cell_type": "code",
      "metadata": {
        "id": "M8ImHmnMk14z",
        "colab_type": "code",
        "colab": {
          "base_uri": "https://localhost:8080/",
          "height": 168
        },
        "outputId": "97a75b9e-8ba3-470f-d8d8-2cc580e54ac9"
      },
      "source": [
        "!pip install wget\n"
      ],
      "execution_count": 1,
      "outputs": [
        {
          "output_type": "stream",
          "text": [
            "Collecting wget\n",
            "  Downloading https://files.pythonhosted.org/packages/47/6a/62e288da7bcda82b935ff0c6cfe542970f04e29c756b0e147251b2fb251f/wget-3.2.zip\n",
            "Building wheels for collected packages: wget\n",
            "  Building wheel for wget (setup.py) ... \u001b[?25l\u001b[?25hdone\n",
            "  Created wheel for wget: filename=wget-3.2-cp36-none-any.whl size=9682 sha256=f88495f8e7db5864213ecda66edc0538b0dc4ba67da20a13f2aa68e844b90784\n",
            "  Stored in directory: /root/.cache/pip/wheels/40/15/30/7d8f7cea2902b4db79e3fea550d7d7b85ecb27ef992b618f3f\n",
            "Successfully built wget\n",
            "Installing collected packages: wget\n",
            "Successfully installed wget-3.2\n"
          ],
          "name": "stdout"
        }
      ]
    },
    {
      "cell_type": "code",
      "metadata": {
        "id": "uwdU8Blulnol",
        "colab_type": "code",
        "colab": {
          "base_uri": "https://localhost:8080/",
          "height": 70
        },
        "outputId": "5354954b-a3dd-4121-f891-f80725e2e2b6"
      },
      "source": [
        "import pandas as pd\n",
        "import seaborn as sns\n",
        "import numpy as np\n",
        "import matplotlib.pyplot as plt\n",
        "import os\n",
        "import wget\n",
        "from pandas import Series, datetime\n",
        "from pandas.plotting import scatter_matrix, autocorrelation_plot\n",
        "from sklearn.preprocessing import StandardScaler, RobustScaler\n",
        "from sklearn.model_selection import train_test_split, KFold, cross_val_score, GridSearchCV, TimeSeriesSplit\n",
        "from sklearn import metrics\n",
        "from sklearn.metrics import classification_report, confusion_matrix, accuracy_score, mean_squared_error\n",
        "from sklearn.pipeline import Pipeline\n",
        "from sklearn.linear_model import LogisticRegression\n",
        "from sklearn.tree import DecisionTreeClassifier\n",
        "from sklearn.neighbors import KNeighborsClassifier\n",
        "from sklearn.discriminant_analysis import LinearDiscriminantAnalysis\n",
        "from sklearn.naive_bayes import GaussianNB\n",
        "from sklearn.cluster import KMeans\n",
        "from sklearn.svm import SVC\n",
        "from sklearn.ensemble import AdaBoostClassifier, GradientBoostingClassifier, RandomForestClassifier, ExtraTreesClassifier\n",
        "from sklearn.metrics import roc_curve, auc\n",
        "import random\n",
        "from statsmodels.graphics.tsaplots import plot_acf, plot_pacf\n",
        "from statsmodels.tsa.arima_model import ARIMA\n",
        "from xgboost import XGBClassifier\n",
        "from sklearn.mixture import GaussianMixture"
      ],
      "execution_count": 2,
      "outputs": [
        {
          "output_type": "stream",
          "text": [
            "/usr/local/lib/python3.6/dist-packages/statsmodels/tools/_testing.py:19: FutureWarning: pandas.util.testing is deprecated. Use the functions in the public API at pandas.testing instead.\n",
            "  import pandas.util.testing as tm\n"
          ],
          "name": "stderr"
        }
      ]
    },
    {
      "cell_type": "markdown",
      "metadata": {
        "id": "evMtFIunmCnj",
        "colab_type": "text"
      },
      "source": [
        "## County Population"
      ]
    },
    {
      "cell_type": "code",
      "metadata": {
        "id": "OXbEj9pMmfEO",
        "colab_type": "code",
        "colab": {
          "base_uri": "https://localhost:8080/",
          "height": 123
        },
        "outputId": "c12fec86-012e-4c08-a5e9-ad58ef243285"
      },
      "source": [
        "US_population_filename = wget.download('https://usafactsstatic.blob.core.windows.net/public/data/covid-19/covid_county_population_usafacts.csv')\n",
        "county_population_US = pd.read_csv(US_population_filename,low_memory=False)\n",
        "print(county_population_US.shape)\n",
        "\n",
        "county_population_US.head(2)"
      ],
      "execution_count": 3,
      "outputs": [
        {
          "output_type": "stream",
          "text": [
            "(3195, 4)\n"
          ],
          "name": "stdout"
        },
        {
          "output_type": "execute_result",
          "data": {
            "text/html": [
              "<div>\n",
              "<style scoped>\n",
              "    .dataframe tbody tr th:only-of-type {\n",
              "        vertical-align: middle;\n",
              "    }\n",
              "\n",
              "    .dataframe tbody tr th {\n",
              "        vertical-align: top;\n",
              "    }\n",
              "\n",
              "    .dataframe thead th {\n",
              "        text-align: right;\n",
              "    }\n",
              "</style>\n",
              "<table border=\"1\" class=\"dataframe\">\n",
              "  <thead>\n",
              "    <tr style=\"text-align: right;\">\n",
              "      <th></th>\n",
              "      <th>countyFIPS</th>\n",
              "      <th>County Name</th>\n",
              "      <th>State</th>\n",
              "      <th>population</th>\n",
              "    </tr>\n",
              "  </thead>\n",
              "  <tbody>\n",
              "    <tr>\n",
              "      <th>0</th>\n",
              "      <td>0</td>\n",
              "      <td>Statewide Unallocated</td>\n",
              "      <td>AL</td>\n",
              "      <td>0</td>\n",
              "    </tr>\n",
              "    <tr>\n",
              "      <th>1</th>\n",
              "      <td>1001</td>\n",
              "      <td>Autauga County</td>\n",
              "      <td>AL</td>\n",
              "      <td>55869</td>\n",
              "    </tr>\n",
              "  </tbody>\n",
              "</table>\n",
              "</div>"
            ],
            "text/plain": [
              "   countyFIPS            County Name State  population\n",
              "0           0  Statewide Unallocated    AL           0\n",
              "1        1001         Autauga County    AL       55869"
            ]
          },
          "metadata": {
            "tags": []
          },
          "execution_count": 3
        }
      ]
    },
    {
      "cell_type": "code",
      "metadata": {
        "id": "_tpjeJJbmvL1",
        "colab_type": "code",
        "colab": {
          "base_uri": "https://localhost:8080/",
          "height": 123
        },
        "outputId": "44d1bfc9-471b-42d4-b686-3f35c3edd81e"
      },
      "source": [
        "ny_population = county_population_US[county_population_US['State'] == 'NY']\n",
        "print(ny_population.shape)\n",
        "ny_population.head(2)"
      ],
      "execution_count": 4,
      "outputs": [
        {
          "output_type": "stream",
          "text": [
            "(64, 4)\n"
          ],
          "name": "stdout"
        },
        {
          "output_type": "execute_result",
          "data": {
            "text/html": [
              "<div>\n",
              "<style scoped>\n",
              "    .dataframe tbody tr th:only-of-type {\n",
              "        vertical-align: middle;\n",
              "    }\n",
              "\n",
              "    .dataframe tbody tr th {\n",
              "        vertical-align: top;\n",
              "    }\n",
              "\n",
              "    .dataframe thead th {\n",
              "        text-align: right;\n",
              "    }\n",
              "</style>\n",
              "<table border=\"1\" class=\"dataframe\">\n",
              "  <thead>\n",
              "    <tr style=\"text-align: right;\">\n",
              "      <th></th>\n",
              "      <th>countyFIPS</th>\n",
              "      <th>County Name</th>\n",
              "      <th>State</th>\n",
              "      <th>population</th>\n",
              "    </tr>\n",
              "  </thead>\n",
              "  <tbody>\n",
              "    <tr>\n",
              "      <th>1861</th>\n",
              "      <td>0</td>\n",
              "      <td>Statewide Unallocated</td>\n",
              "      <td>NY</td>\n",
              "      <td>0</td>\n",
              "    </tr>\n",
              "    <tr>\n",
              "      <th>1862</th>\n",
              "      <td>0</td>\n",
              "      <td>New York City Unallocated</td>\n",
              "      <td>NY</td>\n",
              "      <td>0</td>\n",
              "    </tr>\n",
              "  </tbody>\n",
              "</table>\n",
              "</div>"
            ],
            "text/plain": [
              "      countyFIPS                County Name State  population\n",
              "1861           0      Statewide Unallocated    NY           0\n",
              "1862           0  New York City Unallocated    NY           0"
            ]
          },
          "metadata": {
            "tags": []
          },
          "execution_count": 4
        }
      ]
    },
    {
      "cell_type": "code",
      "metadata": {
        "id": "2eWuWruhm-vv",
        "colab_type": "code",
        "colab": {
          "base_uri": "https://localhost:8080/",
          "height": 386
        },
        "outputId": "788a0e42-d511-4f9c-ee1b-a1cf8b6dbf7f"
      },
      "source": [
        "ny_population['County Name'].unique()"
      ],
      "execution_count": 5,
      "outputs": [
        {
          "output_type": "execute_result",
          "data": {
            "text/plain": [
              "array(['Statewide Unallocated', 'New York City Unallocated',\n",
              "       'Albany County', 'Allegany County', 'Bronx County',\n",
              "       'Broome County', 'Cattaraugus County', 'Cayuga County',\n",
              "       'Chautauqua County', 'Chemung County', 'Chenango County',\n",
              "       'Clinton County', 'Columbia County', 'Cortland County',\n",
              "       'Delaware County', 'Dutchess County', 'Erie County',\n",
              "       'Essex County', 'Franklin County', 'Fulton County',\n",
              "       'Genesee County', 'Greene County', 'Hamilton County',\n",
              "       'Herkimer County', 'Jefferson County', 'Kings County',\n",
              "       'Lewis County', 'Livingston County', 'Madison County',\n",
              "       'Monroe County', 'Montgomery County', 'Nassau County',\n",
              "       'New York County', 'Niagara County', 'Oneida County',\n",
              "       'Onondaga County', 'Ontario County', 'Orange County',\n",
              "       'Orleans County', 'Oswego County', 'Otsego County',\n",
              "       'Putnam County', 'Queens County', 'Rensselaer County',\n",
              "       'Richmond County', 'Rockland County', 'St. Lawrence County',\n",
              "       'Saratoga County', 'Schenectady County', 'Schoharie County',\n",
              "       'Schuyler County', 'Seneca County', 'Steuben County',\n",
              "       'Suffolk County', 'Sullivan County', 'Tioga County',\n",
              "       'Tompkins County', 'Ulster County', 'Warren County',\n",
              "       'Washington County', 'Wayne County', 'Westchester County',\n",
              "       'Wyoming County', 'Yates County'], dtype=object)"
            ]
          },
          "metadata": {
            "tags": []
          },
          "execution_count": 5
        }
      ]
    },
    {
      "cell_type": "code",
      "metadata": {
        "id": "tK88EeaUnJ-p",
        "colab_type": "code",
        "colab": {
          "base_uri": "https://localhost:8080/",
          "height": 77
        },
        "outputId": "88829da5-48ce-4874-e82d-a6d090cd7832"
      },
      "source": [
        "queens_county_population = ny_population[ny_population['County Name'] == 'Queens County']\n",
        "queens_county_population"
      ],
      "execution_count": 6,
      "outputs": [
        {
          "output_type": "execute_result",
          "data": {
            "text/html": [
              "<div>\n",
              "<style scoped>\n",
              "    .dataframe tbody tr th:only-of-type {\n",
              "        vertical-align: middle;\n",
              "    }\n",
              "\n",
              "    .dataframe tbody tr th {\n",
              "        vertical-align: top;\n",
              "    }\n",
              "\n",
              "    .dataframe thead th {\n",
              "        text-align: right;\n",
              "    }\n",
              "</style>\n",
              "<table border=\"1\" class=\"dataframe\">\n",
              "  <thead>\n",
              "    <tr style=\"text-align: right;\">\n",
              "      <th></th>\n",
              "      <th>countyFIPS</th>\n",
              "      <th>County Name</th>\n",
              "      <th>State</th>\n",
              "      <th>population</th>\n",
              "    </tr>\n",
              "  </thead>\n",
              "  <tbody>\n",
              "    <tr>\n",
              "      <th>1903</th>\n",
              "      <td>36081</td>\n",
              "      <td>Queens County</td>\n",
              "      <td>NY</td>\n",
              "      <td>2253858</td>\n",
              "    </tr>\n",
              "  </tbody>\n",
              "</table>\n",
              "</div>"
            ],
            "text/plain": [
              "      countyFIPS    County Name State  population\n",
              "1903       36081  Queens County    NY     2253858"
            ]
          },
          "metadata": {
            "tags": []
          },
          "execution_count": 6
        }
      ]
    },
    {
      "cell_type": "markdown",
      "metadata": {
        "id": "DZIQ8BB8npY0",
        "colab_type": "text"
      },
      "source": [
        "## Land Area "
      ]
    },
    {
      "cell_type": "code",
      "metadata": {
        "id": "ilTS6GosnbkC",
        "colab_type": "code",
        "colab": {
          "base_uri": "https://localhost:8080/",
          "height": 34
        },
        "outputId": "c4d641b3-438e-485e-a5c8-0ff5f98b2ff3"
      },
      "source": [
        "landarea_filename = wget.download('https://raw.githubusercontent.com/ykzeng/covid-19/master/data/census-landarea-all.csv')\n",
        "landarea_data = pd.read_csv(landarea_filename,low_memory=False)\n",
        "print(landarea_data.shape)\n"
      ],
      "execution_count": 7,
      "outputs": [
        {
          "output_type": "stream",
          "text": [
            "(3195, 52)\n"
          ],
          "name": "stdout"
        }
      ]
    },
    {
      "cell_type": "code",
      "metadata": {
        "id": "R7jnr7GOoJog",
        "colab_type": "code",
        "colab": {
          "base_uri": "https://localhost:8080/",
          "height": 126
        },
        "outputId": "b4f30a9c-6c08-41f9-eeca-e3f419195f04"
      },
      "source": [
        "landarea_data.head(2)"
      ],
      "execution_count": 8,
      "outputs": [
        {
          "output_type": "execute_result",
          "data": {
            "text/html": [
              "<div>\n",
              "<style scoped>\n",
              "    .dataframe tbody tr th:only-of-type {\n",
              "        vertical-align: middle;\n",
              "    }\n",
              "\n",
              "    .dataframe tbody tr th {\n",
              "        vertical-align: top;\n",
              "    }\n",
              "\n",
              "    .dataframe thead th {\n",
              "        text-align: right;\n",
              "    }\n",
              "</style>\n",
              "<table border=\"1\" class=\"dataframe\">\n",
              "  <thead>\n",
              "    <tr style=\"text-align: right;\">\n",
              "      <th></th>\n",
              "      <th>fips</th>\n",
              "      <th>PST045212</th>\n",
              "      <th>PST040210</th>\n",
              "      <th>PST120212</th>\n",
              "      <th>POP010210</th>\n",
              "      <th>AGE135212</th>\n",
              "      <th>AGE295212</th>\n",
              "      <th>AGE775212</th>\n",
              "      <th>SEX255212</th>\n",
              "      <th>RHI125212</th>\n",
              "      <th>RHI225212</th>\n",
              "      <th>RHI325212</th>\n",
              "      <th>RHI425212</th>\n",
              "      <th>RHI525212</th>\n",
              "      <th>RHI625212</th>\n",
              "      <th>RHI725212</th>\n",
              "      <th>RHI825212</th>\n",
              "      <th>POP715211</th>\n",
              "      <th>POP645211</th>\n",
              "      <th>POP815211</th>\n",
              "      <th>EDU635211</th>\n",
              "      <th>EDU685211</th>\n",
              "      <th>VET605211</th>\n",
              "      <th>LFE305211</th>\n",
              "      <th>HSG010211</th>\n",
              "      <th>HSG445211</th>\n",
              "      <th>HSG096211</th>\n",
              "      <th>HSG495211</th>\n",
              "      <th>HSD410211</th>\n",
              "      <th>HSD310211</th>\n",
              "      <th>INC910211</th>\n",
              "      <th>INC110211</th>\n",
              "      <th>PVY020211</th>\n",
              "      <th>BZA010211</th>\n",
              "      <th>BZA110211</th>\n",
              "      <th>BZA115211</th>\n",
              "      <th>NES010211</th>\n",
              "      <th>SBO001207</th>\n",
              "      <th>SBO315207</th>\n",
              "      <th>SBO115207</th>\n",
              "      <th>SBO215207</th>\n",
              "      <th>SBO515207</th>\n",
              "      <th>SBO415207</th>\n",
              "      <th>SBO015207</th>\n",
              "      <th>MAN450207</th>\n",
              "      <th>WTN220207</th>\n",
              "      <th>RTN130207</th>\n",
              "      <th>RTN131207</th>\n",
              "      <th>AFN120207</th>\n",
              "      <th>BPS030212</th>\n",
              "      <th>LND110210</th>\n",
              "      <th>POP060210</th>\n",
              "    </tr>\n",
              "  </thead>\n",
              "  <tbody>\n",
              "    <tr>\n",
              "      <th>0</th>\n",
              "      <td>0</td>\n",
              "      <td>313914040</td>\n",
              "      <td>308747508</td>\n",
              "      <td>1.7</td>\n",
              "      <td>308745538</td>\n",
              "      <td>6.4</td>\n",
              "      <td>23.5</td>\n",
              "      <td>13.7</td>\n",
              "      <td>50.8</td>\n",
              "      <td>77.9</td>\n",
              "      <td>13.1</td>\n",
              "      <td>1.2</td>\n",
              "      <td>5.1</td>\n",
              "      <td>0.2</td>\n",
              "      <td>2.4</td>\n",
              "      <td>16.9</td>\n",
              "      <td>63.0</td>\n",
              "      <td>84.6</td>\n",
              "      <td>12.8</td>\n",
              "      <td>20.3</td>\n",
              "      <td>85.4</td>\n",
              "      <td>28.2</td>\n",
              "      <td>22215303</td>\n",
              "      <td>25.4</td>\n",
              "      <td>132312404</td>\n",
              "      <td>66.1</td>\n",
              "      <td>25.9</td>\n",
              "      <td>186200</td>\n",
              "      <td>114761359</td>\n",
              "      <td>2.60</td>\n",
              "      <td>27915</td>\n",
              "      <td>52762</td>\n",
              "      <td>14.3</td>\n",
              "      <td>7354043</td>\n",
              "      <td>113425965</td>\n",
              "      <td>1.3</td>\n",
              "      <td>22491080</td>\n",
              "      <td>27092908</td>\n",
              "      <td>7.1</td>\n",
              "      <td>0.9</td>\n",
              "      <td>5.7</td>\n",
              "      <td>0.1</td>\n",
              "      <td>8.3</td>\n",
              "      <td>28.8</td>\n",
              "      <td>5319456312</td>\n",
              "      <td>4174286516</td>\n",
              "      <td>3917663456</td>\n",
              "      <td>12990</td>\n",
              "      <td>613795732</td>\n",
              "      <td>829658</td>\n",
              "      <td>3531905.43</td>\n",
              "      <td>87.4</td>\n",
              "    </tr>\n",
              "    <tr>\n",
              "      <th>1</th>\n",
              "      <td>1000</td>\n",
              "      <td>4822023</td>\n",
              "      <td>4779745</td>\n",
              "      <td>0.9</td>\n",
              "      <td>4779736</td>\n",
              "      <td>6.3</td>\n",
              "      <td>23.3</td>\n",
              "      <td>14.5</td>\n",
              "      <td>51.5</td>\n",
              "      <td>70.0</td>\n",
              "      <td>26.5</td>\n",
              "      <td>0.7</td>\n",
              "      <td>1.2</td>\n",
              "      <td>0.1</td>\n",
              "      <td>1.5</td>\n",
              "      <td>4.1</td>\n",
              "      <td>66.6</td>\n",
              "      <td>84.5</td>\n",
              "      <td>3.4</td>\n",
              "      <td>5.0</td>\n",
              "      <td>81.9</td>\n",
              "      <td>22.0</td>\n",
              "      <td>403982</td>\n",
              "      <td>24.0</td>\n",
              "      <td>2182088</td>\n",
              "      <td>70.7</td>\n",
              "      <td>15.5</td>\n",
              "      <td>120800</td>\n",
              "      <td>1831269</td>\n",
              "      <td>2.53</td>\n",
              "      <td>23483</td>\n",
              "      <td>42934</td>\n",
              "      <td>17.6</td>\n",
              "      <td>97743</td>\n",
              "      <td>1573138</td>\n",
              "      <td>0.3</td>\n",
              "      <td>321641</td>\n",
              "      <td>382350</td>\n",
              "      <td>14.8</td>\n",
              "      <td>0.8</td>\n",
              "      <td>1.8</td>\n",
              "      <td>0.1</td>\n",
              "      <td>1.2</td>\n",
              "      <td>28.1</td>\n",
              "      <td>112858843</td>\n",
              "      <td>52252752</td>\n",
              "      <td>57344851</td>\n",
              "      <td>12364</td>\n",
              "      <td>6426342</td>\n",
              "      <td>13506</td>\n",
              "      <td>50645.33</td>\n",
              "      <td>94.4</td>\n",
              "    </tr>\n",
              "  </tbody>\n",
              "</table>\n",
              "</div>"
            ],
            "text/plain": [
              "   fips  PST045212  PST040210  ...  BPS030212   LND110210  POP060210\n",
              "0     0  313914040  308747508  ...     829658  3531905.43       87.4\n",
              "1  1000    4822023    4779745  ...      13506    50645.33       94.4\n",
              "\n",
              "[2 rows x 52 columns]"
            ]
          },
          "metadata": {
            "tags": []
          },
          "execution_count": 8
        }
      ]
    },
    {
      "cell_type": "code",
      "metadata": {
        "id": "rPR0aInToxWl",
        "colab_type": "code",
        "colab": {
          "base_uri": "https://localhost:8080/",
          "height": 34
        },
        "outputId": "b6e623f9-eadc-400c-a34f-b5aa3f5168e3"
      },
      "source": [
        "landarea_data['fips'].unique()"
      ],
      "execution_count": 9,
      "outputs": [
        {
          "output_type": "execute_result",
          "data": {
            "text/plain": [
              "array([    0,  1000,  1001, ..., 56041, 56043, 56045])"
            ]
          },
          "metadata": {
            "tags": []
          },
          "execution_count": 9
        }
      ]
    },
    {
      "cell_type": "code",
      "metadata": {
        "id": "9XlTwSOGoVM1",
        "colab_type": "code",
        "colab": {
          "base_uri": "https://localhost:8080/",
          "height": 50
        },
        "outputId": "49a3136e-cb3e-4f30-8e88-779c3e7ac7d6"
      },
      "source": [
        "#LND110210\n",
        "\n",
        "landarea_data[landarea_data['fips'] == 36081]['LND110210']"
      ],
      "execution_count": 10,
      "outputs": [
        {
          "output_type": "execute_result",
          "data": {
            "text/plain": [
              "1902    108.53\n",
              "Name: LND110210, dtype: float64"
            ]
          },
          "metadata": {
            "tags": []
          },
          "execution_count": 10
        }
      ]
    },
    {
      "cell_type": "markdown",
      "metadata": {
        "id": "nUhDujq4lh8J",
        "colab_type": "text"
      },
      "source": [
        "## Mask data"
      ]
    },
    {
      "cell_type": "code",
      "metadata": {
        "id": "vjaG4Cj-lnho",
        "colab_type": "code",
        "colab": {
          "base_uri": "https://localhost:8080/",
          "height": 35
        },
        "outputId": "955d6ace-9dcd-4e39-f093-a9401787a363"
      },
      "source": [
        "mask_filename = wget.download('https://raw.githubusercontent.com/nytimes/covid-19-data/master/mask-use/mask-use-by-county.csv')\n",
        "mask_filename"
      ],
      "execution_count": 11,
      "outputs": [
        {
          "output_type": "execute_result",
          "data": {
            "application/vnd.google.colaboratory.intrinsic+json": {
              "type": "string"
            },
            "text/plain": [
              "'mask-use-by-county.csv'"
            ]
          },
          "metadata": {
            "tags": []
          },
          "execution_count": 11
        }
      ]
    },
    {
      "cell_type": "code",
      "metadata": {
        "id": "CQdxYjnWlnYX",
        "colab_type": "code",
        "colab": {
          "base_uri": "https://localhost:8080/",
          "height": 34
        },
        "outputId": "8a9146b3-6127-4f9d-fae2-58157e0aa796"
      },
      "source": [
        "\n",
        "mask_data = pd.read_csv(mask_filename,low_memory=False)\n",
        "print(mask_data.shape)"
      ],
      "execution_count": 12,
      "outputs": [
        {
          "output_type": "stream",
          "text": [
            "(3142, 6)\n"
          ],
          "name": "stdout"
        }
      ]
    },
    {
      "cell_type": "code",
      "metadata": {
        "id": "HEnZUfculuhi",
        "colab_type": "code",
        "colab": {
          "base_uri": "https://localhost:8080/",
          "height": 195
        },
        "outputId": "3c9e6541-30be-47f5-d38e-124cbbfab82e"
      },
      "source": [
        "mask_data.head()"
      ],
      "execution_count": 13,
      "outputs": [
        {
          "output_type": "execute_result",
          "data": {
            "text/html": [
              "<div>\n",
              "<style scoped>\n",
              "    .dataframe tbody tr th:only-of-type {\n",
              "        vertical-align: middle;\n",
              "    }\n",
              "\n",
              "    .dataframe tbody tr th {\n",
              "        vertical-align: top;\n",
              "    }\n",
              "\n",
              "    .dataframe thead th {\n",
              "        text-align: right;\n",
              "    }\n",
              "</style>\n",
              "<table border=\"1\" class=\"dataframe\">\n",
              "  <thead>\n",
              "    <tr style=\"text-align: right;\">\n",
              "      <th></th>\n",
              "      <th>COUNTYFP</th>\n",
              "      <th>NEVER</th>\n",
              "      <th>RARELY</th>\n",
              "      <th>SOMETIMES</th>\n",
              "      <th>FREQUENTLY</th>\n",
              "      <th>ALWAYS</th>\n",
              "    </tr>\n",
              "  </thead>\n",
              "  <tbody>\n",
              "    <tr>\n",
              "      <th>0</th>\n",
              "      <td>1001</td>\n",
              "      <td>0.053</td>\n",
              "      <td>0.074</td>\n",
              "      <td>0.134</td>\n",
              "      <td>0.295</td>\n",
              "      <td>0.444</td>\n",
              "    </tr>\n",
              "    <tr>\n",
              "      <th>1</th>\n",
              "      <td>1003</td>\n",
              "      <td>0.083</td>\n",
              "      <td>0.059</td>\n",
              "      <td>0.098</td>\n",
              "      <td>0.323</td>\n",
              "      <td>0.436</td>\n",
              "    </tr>\n",
              "    <tr>\n",
              "      <th>2</th>\n",
              "      <td>1005</td>\n",
              "      <td>0.067</td>\n",
              "      <td>0.121</td>\n",
              "      <td>0.120</td>\n",
              "      <td>0.201</td>\n",
              "      <td>0.491</td>\n",
              "    </tr>\n",
              "    <tr>\n",
              "      <th>3</th>\n",
              "      <td>1007</td>\n",
              "      <td>0.020</td>\n",
              "      <td>0.034</td>\n",
              "      <td>0.096</td>\n",
              "      <td>0.278</td>\n",
              "      <td>0.572</td>\n",
              "    </tr>\n",
              "    <tr>\n",
              "      <th>4</th>\n",
              "      <td>1009</td>\n",
              "      <td>0.053</td>\n",
              "      <td>0.114</td>\n",
              "      <td>0.180</td>\n",
              "      <td>0.194</td>\n",
              "      <td>0.459</td>\n",
              "    </tr>\n",
              "  </tbody>\n",
              "</table>\n",
              "</div>"
            ],
            "text/plain": [
              "   COUNTYFP  NEVER  RARELY  SOMETIMES  FREQUENTLY  ALWAYS\n",
              "0      1001  0.053   0.074      0.134       0.295   0.444\n",
              "1      1003  0.083   0.059      0.098       0.323   0.436\n",
              "2      1005  0.067   0.121      0.120       0.201   0.491\n",
              "3      1007  0.020   0.034      0.096       0.278   0.572\n",
              "4      1009  0.053   0.114      0.180       0.194   0.459"
            ]
          },
          "metadata": {
            "tags": []
          },
          "execution_count": 13
        }
      ]
    },
    {
      "cell_type": "code",
      "metadata": {
        "id": "-oH6YbhapVJR",
        "colab_type": "code",
        "colab": {
          "base_uri": "https://localhost:8080/",
          "height": 77
        },
        "outputId": "a99043c8-53a4-4fbb-93d8-abdec39a91ef"
      },
      "source": [
        "mask_data[mask_data['COUNTYFP'] == 36081]"
      ],
      "execution_count": 14,
      "outputs": [
        {
          "output_type": "execute_result",
          "data": {
            "text/html": [
              "<div>\n",
              "<style scoped>\n",
              "    .dataframe tbody tr th:only-of-type {\n",
              "        vertical-align: middle;\n",
              "    }\n",
              "\n",
              "    .dataframe tbody tr th {\n",
              "        vertical-align: top;\n",
              "    }\n",
              "\n",
              "    .dataframe thead th {\n",
              "        text-align: right;\n",
              "    }\n",
              "</style>\n",
              "<table border=\"1\" class=\"dataframe\">\n",
              "  <thead>\n",
              "    <tr style=\"text-align: right;\">\n",
              "      <th></th>\n",
              "      <th>COUNTYFP</th>\n",
              "      <th>NEVER</th>\n",
              "      <th>RARELY</th>\n",
              "      <th>SOMETIMES</th>\n",
              "      <th>FREQUENTLY</th>\n",
              "      <th>ALWAYS</th>\n",
              "    </tr>\n",
              "  </thead>\n",
              "  <tbody>\n",
              "    <tr>\n",
              "      <th>1868</th>\n",
              "      <td>36081</td>\n",
              "      <td>0.022</td>\n",
              "      <td>0.023</td>\n",
              "      <td>0.068</td>\n",
              "      <td>0.136</td>\n",
              "      <td>0.751</td>\n",
              "    </tr>\n",
              "  </tbody>\n",
              "</table>\n",
              "</div>"
            ],
            "text/plain": [
              "      COUNTYFP  NEVER  RARELY  SOMETIMES  FREQUENTLY  ALWAYS\n",
              "1868     36081  0.022   0.023      0.068       0.136   0.751"
            ]
          },
          "metadata": {
            "tags": []
          },
          "execution_count": 14
        }
      ]
    },
    {
      "cell_type": "markdown",
      "metadata": {
        "id": "TCWqEdGzqr1P",
        "colab_type": "text"
      },
      "source": [
        "## Mobility Data "
      ]
    },
    {
      "cell_type": "markdown",
      "metadata": {
        "id": "3W5XRhm0xhkK",
        "colab_type": "text"
      },
      "source": [
        "### Google mobility data"
      ]
    },
    {
      "cell_type": "code",
      "metadata": {
        "id": "YCnpUC88quBQ",
        "colab_type": "code",
        "colab": {
          "base_uri": "https://localhost:8080/",
          "height": 106
        },
        "outputId": "c6f8f854-a9e5-4f7c-8c0a-7ef05f75292c"
      },
      "source": [
        "google_data_url = 'https://raw.githubusercontent.com/ActiveConclusion/COVID19_mobility/master/google_reports/mobility_report_US.csv'\n",
        "\n",
        "google_filename = wget.download(google_data_url)\n",
        "google_mobility_data = pd.read_csv(google_filename,low_memory=False)\n",
        "google_mobility_data.head(2)"
      ],
      "execution_count": 15,
      "outputs": [
        {
          "output_type": "execute_result",
          "data": {
            "text/html": [
              "<div>\n",
              "<style scoped>\n",
              "    .dataframe tbody tr th:only-of-type {\n",
              "        vertical-align: middle;\n",
              "    }\n",
              "\n",
              "    .dataframe tbody tr th {\n",
              "        vertical-align: top;\n",
              "    }\n",
              "\n",
              "    .dataframe thead th {\n",
              "        text-align: right;\n",
              "    }\n",
              "</style>\n",
              "<table border=\"1\" class=\"dataframe\">\n",
              "  <thead>\n",
              "    <tr style=\"text-align: right;\">\n",
              "      <th></th>\n",
              "      <th>state</th>\n",
              "      <th>county</th>\n",
              "      <th>date</th>\n",
              "      <th>retail and recreation</th>\n",
              "      <th>grocery and pharmacy</th>\n",
              "      <th>parks</th>\n",
              "      <th>transit stations</th>\n",
              "      <th>workplaces</th>\n",
              "      <th>residential</th>\n",
              "    </tr>\n",
              "  </thead>\n",
              "  <tbody>\n",
              "    <tr>\n",
              "      <th>0</th>\n",
              "      <td>Total</td>\n",
              "      <td>Total</td>\n",
              "      <td>2020-02-15</td>\n",
              "      <td>6.0</td>\n",
              "      <td>2.0</td>\n",
              "      <td>15.0</td>\n",
              "      <td>3.0</td>\n",
              "      <td>2.0</td>\n",
              "      <td>-1.0</td>\n",
              "    </tr>\n",
              "    <tr>\n",
              "      <th>1</th>\n",
              "      <td>Total</td>\n",
              "      <td>Total</td>\n",
              "      <td>2020-02-16</td>\n",
              "      <td>7.0</td>\n",
              "      <td>1.0</td>\n",
              "      <td>16.0</td>\n",
              "      <td>2.0</td>\n",
              "      <td>0.0</td>\n",
              "      <td>-1.0</td>\n",
              "    </tr>\n",
              "  </tbody>\n",
              "</table>\n",
              "</div>"
            ],
            "text/plain": [
              "   state county        date  ...  transit stations  workplaces  residential\n",
              "0  Total  Total  2020-02-15  ...               3.0         2.0         -1.0\n",
              "1  Total  Total  2020-02-16  ...               2.0         0.0         -1.0\n",
              "\n",
              "[2 rows x 9 columns]"
            ]
          },
          "metadata": {
            "tags": []
          },
          "execution_count": 15
        }
      ]
    },
    {
      "cell_type": "code",
      "metadata": {
        "id": "TdzHjL2zxtkK",
        "colab_type": "code",
        "colab": {
          "base_uri": "https://localhost:8080/",
          "height": 123
        },
        "outputId": "d8c5494d-de70-4c2d-d4a5-d9b25d605d0f"
      },
      "source": [
        "NY_GoogleMobility_data = google_mobility_data[google_mobility_data['state'] == 'New York']\n",
        "print(NY_GoogleMobility_data.shape)\n",
        "NY_GoogleMobility_data.tail(2)"
      ],
      "execution_count": 16,
      "outputs": [
        {
          "output_type": "stream",
          "text": [
            "(11098, 9)\n"
          ],
          "name": "stdout"
        },
        {
          "output_type": "execute_result",
          "data": {
            "text/html": [
              "<div>\n",
              "<style scoped>\n",
              "    .dataframe tbody tr th:only-of-type {\n",
              "        vertical-align: middle;\n",
              "    }\n",
              "\n",
              "    .dataframe tbody tr th {\n",
              "        vertical-align: top;\n",
              "    }\n",
              "\n",
              "    .dataframe thead th {\n",
              "        text-align: right;\n",
              "    }\n",
              "</style>\n",
              "<table border=\"1\" class=\"dataframe\">\n",
              "  <thead>\n",
              "    <tr style=\"text-align: right;\">\n",
              "      <th></th>\n",
              "      <th>state</th>\n",
              "      <th>county</th>\n",
              "      <th>date</th>\n",
              "      <th>retail and recreation</th>\n",
              "      <th>grocery and pharmacy</th>\n",
              "      <th>parks</th>\n",
              "      <th>transit stations</th>\n",
              "      <th>workplaces</th>\n",
              "      <th>residential</th>\n",
              "    </tr>\n",
              "  </thead>\n",
              "  <tbody>\n",
              "    <tr>\n",
              "      <th>284597</th>\n",
              "      <td>New York</td>\n",
              "      <td>Yates County</td>\n",
              "      <td>2020-08-10</td>\n",
              "      <td>NaN</td>\n",
              "      <td>34.0</td>\n",
              "      <td>NaN</td>\n",
              "      <td>NaN</td>\n",
              "      <td>-24.0</td>\n",
              "      <td>NaN</td>\n",
              "    </tr>\n",
              "    <tr>\n",
              "      <th>284598</th>\n",
              "      <td>New York</td>\n",
              "      <td>Yates County</td>\n",
              "      <td>2020-08-11</td>\n",
              "      <td>NaN</td>\n",
              "      <td>30.0</td>\n",
              "      <td>NaN</td>\n",
              "      <td>NaN</td>\n",
              "      <td>-24.0</td>\n",
              "      <td>NaN</td>\n",
              "    </tr>\n",
              "  </tbody>\n",
              "</table>\n",
              "</div>"
            ],
            "text/plain": [
              "           state        county  ... workplaces  residential\n",
              "284597  New York  Yates County  ...      -24.0          NaN\n",
              "284598  New York  Yates County  ...      -24.0          NaN\n",
              "\n",
              "[2 rows x 9 columns]"
            ]
          },
          "metadata": {
            "tags": []
          },
          "execution_count": 16
        }
      ]
    },
    {
      "cell_type": "markdown",
      "metadata": {
        "id": "__Kf0xdyxmJ6",
        "colab_type": "text"
      },
      "source": [
        "### Apple mobility data"
      ]
    },
    {
      "cell_type": "code",
      "metadata": {
        "id": "5YxdFDmlx4ib",
        "colab_type": "code",
        "colab": {
          "base_uri": "https://localhost:8080/",
          "height": 106
        },
        "outputId": "16833fd3-2f1e-40ee-87aa-aa0cfe8d18e4"
      },
      "source": [
        "apple_report_url = 'https://raw.githubusercontent.com/ActiveConclusion/COVID19_mobility/master/apple_reports/apple_mobility_report_US.csv'\n",
        "\n",
        "apple_filename = wget.download(apple_report_url)\n",
        "apple_mobility_data = pd.read_csv(apple_filename,low_memory=False)\n",
        "apple_mobility_data.tail(2)"
      ],
      "execution_count": 17,
      "outputs": [
        {
          "output_type": "execute_result",
          "data": {
            "text/html": [
              "<div>\n",
              "<style scoped>\n",
              "    .dataframe tbody tr th:only-of-type {\n",
              "        vertical-align: middle;\n",
              "    }\n",
              "\n",
              "    .dataframe tbody tr th {\n",
              "        vertical-align: top;\n",
              "    }\n",
              "\n",
              "    .dataframe thead th {\n",
              "        text-align: right;\n",
              "    }\n",
              "</style>\n",
              "<table border=\"1\" class=\"dataframe\">\n",
              "  <thead>\n",
              "    <tr style=\"text-align: right;\">\n",
              "      <th></th>\n",
              "      <th>state</th>\n",
              "      <th>county_and_city</th>\n",
              "      <th>geo_type</th>\n",
              "      <th>date</th>\n",
              "      <th>driving</th>\n",
              "      <th>transit</th>\n",
              "      <th>walking</th>\n",
              "    </tr>\n",
              "  </thead>\n",
              "  <tbody>\n",
              "    <tr>\n",
              "      <th>478270</th>\n",
              "      <td>Wyoming</td>\n",
              "      <td>Uinta County</td>\n",
              "      <td>county</td>\n",
              "      <td>2020-08-12</td>\n",
              "      <td>268.83</td>\n",
              "      <td>NaN</td>\n",
              "      <td>NaN</td>\n",
              "    </tr>\n",
              "    <tr>\n",
              "      <th>478271</th>\n",
              "      <td>Wyoming</td>\n",
              "      <td>Uinta County</td>\n",
              "      <td>county</td>\n",
              "      <td>2020-08-13</td>\n",
              "      <td>315.41</td>\n",
              "      <td>NaN</td>\n",
              "      <td>NaN</td>\n",
              "    </tr>\n",
              "  </tbody>\n",
              "</table>\n",
              "</div>"
            ],
            "text/plain": [
              "          state county_and_city geo_type        date  driving  transit  walking\n",
              "478270  Wyoming    Uinta County   county  2020-08-12   268.83      NaN      NaN\n",
              "478271  Wyoming    Uinta County   county  2020-08-13   315.41      NaN      NaN"
            ]
          },
          "metadata": {
            "tags": []
          },
          "execution_count": 17
        }
      ]
    },
    {
      "cell_type": "code",
      "metadata": {
        "id": "CR5K3TSUx6uG",
        "colab_type": "code",
        "colab": {
          "base_uri": "https://localhost:8080/",
          "height": 123
        },
        "outputId": "fe46a339-4e44-4efb-fa0a-7d96a73cae79"
      },
      "source": [
        "NY_AppleMobility_data = apple_mobility_data[apple_mobility_data['state'] == 'New York']\n",
        "print(NY_AppleMobility_data.shape)\n",
        "NY_AppleMobility_data.tail(2)"
      ],
      "execution_count": 18,
      "outputs": [
        {
          "output_type": "stream",
          "text": [
            "(14204, 7)\n"
          ],
          "name": "stdout"
        },
        {
          "output_type": "execute_result",
          "data": {
            "text/html": [
              "<div>\n",
              "<style scoped>\n",
              "    .dataframe tbody tr th:only-of-type {\n",
              "        vertical-align: middle;\n",
              "    }\n",
              "\n",
              "    .dataframe tbody tr th {\n",
              "        vertical-align: top;\n",
              "    }\n",
              "\n",
              "    .dataframe thead th {\n",
              "        text-align: right;\n",
              "    }\n",
              "</style>\n",
              "<table border=\"1\" class=\"dataframe\">\n",
              "  <thead>\n",
              "    <tr style=\"text-align: right;\">\n",
              "      <th></th>\n",
              "      <th>state</th>\n",
              "      <th>county_and_city</th>\n",
              "      <th>geo_type</th>\n",
              "      <th>date</th>\n",
              "      <th>driving</th>\n",
              "      <th>transit</th>\n",
              "      <th>walking</th>\n",
              "    </tr>\n",
              "  </thead>\n",
              "  <tbody>\n",
              "    <tr>\n",
              "      <th>275810</th>\n",
              "      <td>New York</td>\n",
              "      <td>Yates County</td>\n",
              "      <td>county</td>\n",
              "      <td>2020-08-12</td>\n",
              "      <td>290.56</td>\n",
              "      <td>NaN</td>\n",
              "      <td>NaN</td>\n",
              "    </tr>\n",
              "    <tr>\n",
              "      <th>275811</th>\n",
              "      <td>New York</td>\n",
              "      <td>Yates County</td>\n",
              "      <td>county</td>\n",
              "      <td>2020-08-13</td>\n",
              "      <td>303.29</td>\n",
              "      <td>NaN</td>\n",
              "      <td>NaN</td>\n",
              "    </tr>\n",
              "  </tbody>\n",
              "</table>\n",
              "</div>"
            ],
            "text/plain": [
              "           state county_and_city geo_type  ... driving  transit  walking\n",
              "275810  New York    Yates County   county  ...  290.56      NaN      NaN\n",
              "275811  New York    Yates County   county  ...  303.29      NaN      NaN\n",
              "\n",
              "[2 rows x 7 columns]"
            ]
          },
          "metadata": {
            "tags": []
          },
          "execution_count": 18
        }
      ]
    },
    {
      "cell_type": "code",
      "metadata": {
        "id": "v2-edOZzyOoc",
        "colab_type": "code",
        "colab": {
          "base_uri": "https://localhost:8080/",
          "height": 118
        },
        "outputId": "0d3e4445-d0f5-4110-810e-d9372cbd222a"
      },
      "source": [
        "NY_AppleMobility_data['county'] = NY_AppleMobility_data['county_and_city']"
      ],
      "execution_count": 19,
      "outputs": [
        {
          "output_type": "stream",
          "text": [
            "/usr/local/lib/python3.6/dist-packages/ipykernel_launcher.py:1: SettingWithCopyWarning: \n",
            "A value is trying to be set on a copy of a slice from a DataFrame.\n",
            "Try using .loc[row_indexer,col_indexer] = value instead\n",
            "\n",
            "See the caveats in the documentation: https://pandas.pydata.org/pandas-docs/stable/user_guide/indexing.html#returning-a-view-versus-a-copy\n",
            "  \"\"\"Entry point for launching an IPython kernel.\n"
          ],
          "name": "stderr"
        }
      ]
    },
    {
      "cell_type": "code",
      "metadata": {
        "id": "tZ6j4v0_yDR7",
        "colab_type": "code",
        "colab": {
          "base_uri": "https://localhost:8080/",
          "height": 106
        },
        "outputId": "89d1ab7e-d7e3-43b1-d6ba-e46af6901a05"
      },
      "source": [
        "NY_AppleMobility_data = NY_AppleMobility_data[['state','county','date','driving','transit','walking']]\n",
        "\n",
        "NY_AppleMobility_data.tail(2)"
      ],
      "execution_count": 20,
      "outputs": [
        {
          "output_type": "execute_result",
          "data": {
            "text/html": [
              "<div>\n",
              "<style scoped>\n",
              "    .dataframe tbody tr th:only-of-type {\n",
              "        vertical-align: middle;\n",
              "    }\n",
              "\n",
              "    .dataframe tbody tr th {\n",
              "        vertical-align: top;\n",
              "    }\n",
              "\n",
              "    .dataframe thead th {\n",
              "        text-align: right;\n",
              "    }\n",
              "</style>\n",
              "<table border=\"1\" class=\"dataframe\">\n",
              "  <thead>\n",
              "    <tr style=\"text-align: right;\">\n",
              "      <th></th>\n",
              "      <th>state</th>\n",
              "      <th>county</th>\n",
              "      <th>date</th>\n",
              "      <th>driving</th>\n",
              "      <th>transit</th>\n",
              "      <th>walking</th>\n",
              "    </tr>\n",
              "  </thead>\n",
              "  <tbody>\n",
              "    <tr>\n",
              "      <th>275810</th>\n",
              "      <td>New York</td>\n",
              "      <td>Yates County</td>\n",
              "      <td>2020-08-12</td>\n",
              "      <td>290.56</td>\n",
              "      <td>NaN</td>\n",
              "      <td>NaN</td>\n",
              "    </tr>\n",
              "    <tr>\n",
              "      <th>275811</th>\n",
              "      <td>New York</td>\n",
              "      <td>Yates County</td>\n",
              "      <td>2020-08-13</td>\n",
              "      <td>303.29</td>\n",
              "      <td>NaN</td>\n",
              "      <td>NaN</td>\n",
              "    </tr>\n",
              "  </tbody>\n",
              "</table>\n",
              "</div>"
            ],
            "text/plain": [
              "           state        county        date  driving  transit  walking\n",
              "275810  New York  Yates County  2020-08-12   290.56      NaN      NaN\n",
              "275811  New York  Yates County  2020-08-13   303.29      NaN      NaN"
            ]
          },
          "metadata": {
            "tags": []
          },
          "execution_count": 20
        }
      ]
    },
    {
      "cell_type": "code",
      "metadata": {
        "id": "JOMM7wT0yYNo",
        "colab_type": "code",
        "colab": {
          "base_uri": "https://localhost:8080/",
          "height": 34
        },
        "outputId": "e4297f70-9fcf-45eb-9050-24437d7fab76"
      },
      "source": [
        "NY_mobility_data = pd.merge(NY_GoogleMobility_data,NY_AppleMobility_data,how='outer' ,on=['state','county','date'])\n",
        "NY_mobility_data.shape"
      ],
      "execution_count": 21,
      "outputs": [
        {
          "output_type": "execute_result",
          "data": {
            "text/plain": [
              "(14328, 12)"
            ]
          },
          "metadata": {
            "tags": []
          },
          "execution_count": 21
        }
      ]
    },
    {
      "cell_type": "code",
      "metadata": {
        "id": "jyFwKMItyc2n",
        "colab_type": "code",
        "colab": {
          "base_uri": "https://localhost:8080/",
          "height": 296
        },
        "outputId": "82e04405-bc11-4308-c90b-36dcb03c6623"
      },
      "source": [
        "NY_mobility_data = NY_mobility_data.fillna(0)\n",
        "NY_mobility_data.tail()"
      ],
      "execution_count": 22,
      "outputs": [
        {
          "output_type": "execute_result",
          "data": {
            "text/html": [
              "<div>\n",
              "<style scoped>\n",
              "    .dataframe tbody tr th:only-of-type {\n",
              "        vertical-align: middle;\n",
              "    }\n",
              "\n",
              "    .dataframe tbody tr th {\n",
              "        vertical-align: top;\n",
              "    }\n",
              "\n",
              "    .dataframe thead th {\n",
              "        text-align: right;\n",
              "    }\n",
              "</style>\n",
              "<table border=\"1\" class=\"dataframe\">\n",
              "  <thead>\n",
              "    <tr style=\"text-align: right;\">\n",
              "      <th></th>\n",
              "      <th>state</th>\n",
              "      <th>county</th>\n",
              "      <th>date</th>\n",
              "      <th>retail and recreation</th>\n",
              "      <th>grocery and pharmacy</th>\n",
              "      <th>parks</th>\n",
              "      <th>transit stations</th>\n",
              "      <th>workplaces</th>\n",
              "      <th>residential</th>\n",
              "      <th>driving</th>\n",
              "      <th>transit</th>\n",
              "      <th>walking</th>\n",
              "    </tr>\n",
              "  </thead>\n",
              "  <tbody>\n",
              "    <tr>\n",
              "      <th>14323</th>\n",
              "      <td>New York</td>\n",
              "      <td>Yates County</td>\n",
              "      <td>2020-02-12</td>\n",
              "      <td>0.0</td>\n",
              "      <td>0.0</td>\n",
              "      <td>0.0</td>\n",
              "      <td>0.0</td>\n",
              "      <td>0.0</td>\n",
              "      <td>0.0</td>\n",
              "      <td>33.30</td>\n",
              "      <td>0.0</td>\n",
              "      <td>0.0</td>\n",
              "    </tr>\n",
              "    <tr>\n",
              "      <th>14324</th>\n",
              "      <td>New York</td>\n",
              "      <td>Yates County</td>\n",
              "      <td>2020-02-13</td>\n",
              "      <td>0.0</td>\n",
              "      <td>0.0</td>\n",
              "      <td>0.0</td>\n",
              "      <td>0.0</td>\n",
              "      <td>0.0</td>\n",
              "      <td>0.0</td>\n",
              "      <td>30.28</td>\n",
              "      <td>0.0</td>\n",
              "      <td>0.0</td>\n",
              "    </tr>\n",
              "    <tr>\n",
              "      <th>14325</th>\n",
              "      <td>New York</td>\n",
              "      <td>Yates County</td>\n",
              "      <td>2020-02-14</td>\n",
              "      <td>0.0</td>\n",
              "      <td>0.0</td>\n",
              "      <td>0.0</td>\n",
              "      <td>0.0</td>\n",
              "      <td>0.0</td>\n",
              "      <td>0.0</td>\n",
              "      <td>78.01</td>\n",
              "      <td>0.0</td>\n",
              "      <td>0.0</td>\n",
              "    </tr>\n",
              "    <tr>\n",
              "      <th>14326</th>\n",
              "      <td>New York</td>\n",
              "      <td>Yates County</td>\n",
              "      <td>2020-08-12</td>\n",
              "      <td>0.0</td>\n",
              "      <td>0.0</td>\n",
              "      <td>0.0</td>\n",
              "      <td>0.0</td>\n",
              "      <td>0.0</td>\n",
              "      <td>0.0</td>\n",
              "      <td>290.56</td>\n",
              "      <td>0.0</td>\n",
              "      <td>0.0</td>\n",
              "    </tr>\n",
              "    <tr>\n",
              "      <th>14327</th>\n",
              "      <td>New York</td>\n",
              "      <td>Yates County</td>\n",
              "      <td>2020-08-13</td>\n",
              "      <td>0.0</td>\n",
              "      <td>0.0</td>\n",
              "      <td>0.0</td>\n",
              "      <td>0.0</td>\n",
              "      <td>0.0</td>\n",
              "      <td>0.0</td>\n",
              "      <td>303.29</td>\n",
              "      <td>0.0</td>\n",
              "      <td>0.0</td>\n",
              "    </tr>\n",
              "  </tbody>\n",
              "</table>\n",
              "</div>"
            ],
            "text/plain": [
              "          state        county        date  ...  driving  transit  walking\n",
              "14323  New York  Yates County  2020-02-12  ...    33.30      0.0      0.0\n",
              "14324  New York  Yates County  2020-02-13  ...    30.28      0.0      0.0\n",
              "14325  New York  Yates County  2020-02-14  ...    78.01      0.0      0.0\n",
              "14326  New York  Yates County  2020-08-12  ...   290.56      0.0      0.0\n",
              "14327  New York  Yates County  2020-08-13  ...   303.29      0.0      0.0\n",
              "\n",
              "[5 rows x 12 columns]"
            ]
          },
          "metadata": {
            "tags": []
          },
          "execution_count": 22
        }
      ]
    },
    {
      "cell_type": "markdown",
      "metadata": {
        "id": "wt9hz8VbynTJ",
        "colab_type": "text"
      },
      "source": [
        "### Queens county mobility data"
      ]
    },
    {
      "cell_type": "code",
      "metadata": {
        "id": "jpUMP5KiynBn",
        "colab_type": "code",
        "colab": {
          "base_uri": "https://localhost:8080/",
          "height": 313
        },
        "outputId": "dcb5d8fd-8c22-47aa-a1c7-5478d51c0d6b"
      },
      "source": [
        "queens_mobility_data = NY_mobility_data[NY_mobility_data['county'] == 'Queens County']\n",
        "print(queens_mobility_data.shape)\n",
        "queens_mobility_data.tail()"
      ],
      "execution_count": 23,
      "outputs": [
        {
          "output_type": "stream",
          "text": [
            "(214, 12)\n"
          ],
          "name": "stdout"
        },
        {
          "output_type": "execute_result",
          "data": {
            "text/html": [
              "<div>\n",
              "<style scoped>\n",
              "    .dataframe tbody tr th:only-of-type {\n",
              "        vertical-align: middle;\n",
              "    }\n",
              "\n",
              "    .dataframe tbody tr th {\n",
              "        vertical-align: top;\n",
              "    }\n",
              "\n",
              "    .dataframe thead th {\n",
              "        text-align: right;\n",
              "    }\n",
              "</style>\n",
              "<table border=\"1\" class=\"dataframe\">\n",
              "  <thead>\n",
              "    <tr style=\"text-align: right;\">\n",
              "      <th></th>\n",
              "      <th>state</th>\n",
              "      <th>county</th>\n",
              "      <th>date</th>\n",
              "      <th>retail and recreation</th>\n",
              "      <th>grocery and pharmacy</th>\n",
              "      <th>parks</th>\n",
              "      <th>transit stations</th>\n",
              "      <th>workplaces</th>\n",
              "      <th>residential</th>\n",
              "      <th>driving</th>\n",
              "      <th>transit</th>\n",
              "      <th>walking</th>\n",
              "    </tr>\n",
              "  </thead>\n",
              "  <tbody>\n",
              "    <tr>\n",
              "      <th>13129</th>\n",
              "      <td>New York</td>\n",
              "      <td>Queens County</td>\n",
              "      <td>2020-02-12</td>\n",
              "      <td>0.0</td>\n",
              "      <td>0.0</td>\n",
              "      <td>0.0</td>\n",
              "      <td>0.0</td>\n",
              "      <td>0.0</td>\n",
              "      <td>0.0</td>\n",
              "      <td>3.27</td>\n",
              "      <td>0.0</td>\n",
              "      <td>0.0</td>\n",
              "    </tr>\n",
              "    <tr>\n",
              "      <th>13130</th>\n",
              "      <td>New York</td>\n",
              "      <td>Queens County</td>\n",
              "      <td>2020-02-13</td>\n",
              "      <td>0.0</td>\n",
              "      <td>0.0</td>\n",
              "      <td>0.0</td>\n",
              "      <td>0.0</td>\n",
              "      <td>0.0</td>\n",
              "      <td>0.0</td>\n",
              "      <td>14.60</td>\n",
              "      <td>0.0</td>\n",
              "      <td>0.0</td>\n",
              "    </tr>\n",
              "    <tr>\n",
              "      <th>13131</th>\n",
              "      <td>New York</td>\n",
              "      <td>Queens County</td>\n",
              "      <td>2020-02-14</td>\n",
              "      <td>0.0</td>\n",
              "      <td>0.0</td>\n",
              "      <td>0.0</td>\n",
              "      <td>0.0</td>\n",
              "      <td>0.0</td>\n",
              "      <td>0.0</td>\n",
              "      <td>34.10</td>\n",
              "      <td>0.0</td>\n",
              "      <td>0.0</td>\n",
              "    </tr>\n",
              "    <tr>\n",
              "      <th>13132</th>\n",
              "      <td>New York</td>\n",
              "      <td>Queens County</td>\n",
              "      <td>2020-08-12</td>\n",
              "      <td>0.0</td>\n",
              "      <td>0.0</td>\n",
              "      <td>0.0</td>\n",
              "      <td>0.0</td>\n",
              "      <td>0.0</td>\n",
              "      <td>0.0</td>\n",
              "      <td>26.37</td>\n",
              "      <td>0.0</td>\n",
              "      <td>0.0</td>\n",
              "    </tr>\n",
              "    <tr>\n",
              "      <th>13133</th>\n",
              "      <td>New York</td>\n",
              "      <td>Queens County</td>\n",
              "      <td>2020-08-13</td>\n",
              "      <td>0.0</td>\n",
              "      <td>0.0</td>\n",
              "      <td>0.0</td>\n",
              "      <td>0.0</td>\n",
              "      <td>0.0</td>\n",
              "      <td>0.0</td>\n",
              "      <td>26.34</td>\n",
              "      <td>0.0</td>\n",
              "      <td>0.0</td>\n",
              "    </tr>\n",
              "  </tbody>\n",
              "</table>\n",
              "</div>"
            ],
            "text/plain": [
              "          state         county        date  ...  driving  transit  walking\n",
              "13129  New York  Queens County  2020-02-12  ...     3.27      0.0      0.0\n",
              "13130  New York  Queens County  2020-02-13  ...    14.60      0.0      0.0\n",
              "13131  New York  Queens County  2020-02-14  ...    34.10      0.0      0.0\n",
              "13132  New York  Queens County  2020-08-12  ...    26.37      0.0      0.0\n",
              "13133  New York  Queens County  2020-08-13  ...    26.34      0.0      0.0\n",
              "\n",
              "[5 rows x 12 columns]"
            ]
          },
          "metadata": {
            "tags": []
          },
          "execution_count": 23
        }
      ]
    },
    {
      "cell_type": "code",
      "metadata": {
        "id": "US9FN7MjzDIm",
        "colab_type": "code",
        "colab": {
          "base_uri": "https://localhost:8080/",
          "height": 296
        },
        "outputId": "8c32a123-a71c-4467-a22b-d9ac680d432e"
      },
      "source": [
        "queens_mobility_data.head()"
      ],
      "execution_count": 24,
      "outputs": [
        {
          "output_type": "execute_result",
          "data": {
            "text/html": [
              "<div>\n",
              "<style scoped>\n",
              "    .dataframe tbody tr th:only-of-type {\n",
              "        vertical-align: middle;\n",
              "    }\n",
              "\n",
              "    .dataframe tbody tr th {\n",
              "        vertical-align: top;\n",
              "    }\n",
              "\n",
              "    .dataframe thead th {\n",
              "        text-align: right;\n",
              "    }\n",
              "</style>\n",
              "<table border=\"1\" class=\"dataframe\">\n",
              "  <thead>\n",
              "    <tr style=\"text-align: right;\">\n",
              "      <th></th>\n",
              "      <th>state</th>\n",
              "      <th>county</th>\n",
              "      <th>date</th>\n",
              "      <th>retail and recreation</th>\n",
              "      <th>grocery and pharmacy</th>\n",
              "      <th>parks</th>\n",
              "      <th>transit stations</th>\n",
              "      <th>workplaces</th>\n",
              "      <th>residential</th>\n",
              "      <th>driving</th>\n",
              "      <th>transit</th>\n",
              "      <th>walking</th>\n",
              "    </tr>\n",
              "  </thead>\n",
              "  <tbody>\n",
              "    <tr>\n",
              "      <th>7160</th>\n",
              "      <td>New York</td>\n",
              "      <td>Queens County</td>\n",
              "      <td>2020-02-15</td>\n",
              "      <td>-2.0</td>\n",
              "      <td>-5.0</td>\n",
              "      <td>-11.0</td>\n",
              "      <td>-5.0</td>\n",
              "      <td>2.0</td>\n",
              "      <td>0.0</td>\n",
              "      <td>15.43</td>\n",
              "      <td>0.0</td>\n",
              "      <td>0.0</td>\n",
              "    </tr>\n",
              "    <tr>\n",
              "      <th>7161</th>\n",
              "      <td>New York</td>\n",
              "      <td>Queens County</td>\n",
              "      <td>2020-02-16</td>\n",
              "      <td>1.0</td>\n",
              "      <td>-5.0</td>\n",
              "      <td>5.0</td>\n",
              "      <td>-5.0</td>\n",
              "      <td>-1.0</td>\n",
              "      <td>-1.0</td>\n",
              "      <td>-2.23</td>\n",
              "      <td>0.0</td>\n",
              "      <td>0.0</td>\n",
              "    </tr>\n",
              "    <tr>\n",
              "      <th>7162</th>\n",
              "      <td>New York</td>\n",
              "      <td>Queens County</td>\n",
              "      <td>2020-02-17</td>\n",
              "      <td>7.0</td>\n",
              "      <td>0.0</td>\n",
              "      <td>39.0</td>\n",
              "      <td>-16.0</td>\n",
              "      <td>-38.0</td>\n",
              "      <td>10.0</td>\n",
              "      <td>1.85</td>\n",
              "      <td>0.0</td>\n",
              "      <td>0.0</td>\n",
              "    </tr>\n",
              "    <tr>\n",
              "      <th>7163</th>\n",
              "      <td>New York</td>\n",
              "      <td>Queens County</td>\n",
              "      <td>2020-02-18</td>\n",
              "      <td>0.0</td>\n",
              "      <td>-4.0</td>\n",
              "      <td>-7.0</td>\n",
              "      <td>-5.0</td>\n",
              "      <td>-9.0</td>\n",
              "      <td>3.0</td>\n",
              "      <td>4.02</td>\n",
              "      <td>0.0</td>\n",
              "      <td>0.0</td>\n",
              "    </tr>\n",
              "    <tr>\n",
              "      <th>7164</th>\n",
              "      <td>New York</td>\n",
              "      <td>Queens County</td>\n",
              "      <td>2020-02-19</td>\n",
              "      <td>3.0</td>\n",
              "      <td>-2.0</td>\n",
              "      <td>14.0</td>\n",
              "      <td>-5.0</td>\n",
              "      <td>-9.0</td>\n",
              "      <td>2.0</td>\n",
              "      <td>5.73</td>\n",
              "      <td>0.0</td>\n",
              "      <td>0.0</td>\n",
              "    </tr>\n",
              "  </tbody>\n",
              "</table>\n",
              "</div>"
            ],
            "text/plain": [
              "         state         county        date  ...  driving  transit  walking\n",
              "7160  New York  Queens County  2020-02-15  ...    15.43      0.0      0.0\n",
              "7161  New York  Queens County  2020-02-16  ...    -2.23      0.0      0.0\n",
              "7162  New York  Queens County  2020-02-17  ...     1.85      0.0      0.0\n",
              "7163  New York  Queens County  2020-02-18  ...     4.02      0.0      0.0\n",
              "7164  New York  Queens County  2020-02-19  ...     5.73      0.0      0.0\n",
              "\n",
              "[5 rows x 12 columns]"
            ]
          },
          "metadata": {
            "tags": []
          },
          "execution_count": 24
        }
      ]
    },
    {
      "cell_type": "markdown",
      "metadata": {
        "id": "2Os8Y4dDzGKB",
        "colab_type": "text"
      },
      "source": [
        "## Social Distancing metric "
      ]
    },
    {
      "cell_type": "code",
      "metadata": {
        "id": "5XZINlEzzIsj",
        "colab_type": "code",
        "colab": {
          "base_uri": "https://localhost:8080/",
          "height": 106
        },
        "outputId": "70323342-09ff-4802-bad1-865018baa64c"
      },
      "source": [
        "socialdistancing_url = 'https://raw.githubusercontent.com/descarteslabs/DL-COVID-19/master/DL-us-mobility-daterow.csv'\n",
        "\n",
        "socialdistancing_file = wget.download(socialdistancing_url)\n",
        "socialdistancing_data = pd.read_csv(socialdistancing_file,low_memory=False)\n",
        "socialdistancing_data.tail(2)\n",
        "\n"
      ],
      "execution_count": 28,
      "outputs": [
        {
          "output_type": "execute_result",
          "data": {
            "text/html": [
              "<div>\n",
              "<style scoped>\n",
              "    .dataframe tbody tr th:only-of-type {\n",
              "        vertical-align: middle;\n",
              "    }\n",
              "\n",
              "    .dataframe tbody tr th {\n",
              "        vertical-align: top;\n",
              "    }\n",
              "\n",
              "    .dataframe thead th {\n",
              "        text-align: right;\n",
              "    }\n",
              "</style>\n",
              "<table border=\"1\" class=\"dataframe\">\n",
              "  <thead>\n",
              "    <tr style=\"text-align: right;\">\n",
              "      <th></th>\n",
              "      <th>date</th>\n",
              "      <th>country_code</th>\n",
              "      <th>admin_level</th>\n",
              "      <th>admin1</th>\n",
              "      <th>admin2</th>\n",
              "      <th>fips</th>\n",
              "      <th>samples</th>\n",
              "      <th>m50</th>\n",
              "      <th>m50_index</th>\n",
              "    </tr>\n",
              "  </thead>\n",
              "  <tbody>\n",
              "    <tr>\n",
              "      <th>437898</th>\n",
              "      <td>2020-08-10</td>\n",
              "      <td>US</td>\n",
              "      <td>2</td>\n",
              "      <td>Wyoming</td>\n",
              "      <td>Uinta County</td>\n",
              "      <td>56041.0</td>\n",
              "      <td>699</td>\n",
              "      <td>5.901</td>\n",
              "      <td>188</td>\n",
              "    </tr>\n",
              "    <tr>\n",
              "      <th>437899</th>\n",
              "      <td>2020-08-11</td>\n",
              "      <td>US</td>\n",
              "      <td>2</td>\n",
              "      <td>Wyoming</td>\n",
              "      <td>Uinta County</td>\n",
              "      <td>56041.0</td>\n",
              "      <td>722</td>\n",
              "      <td>5.796</td>\n",
              "      <td>185</td>\n",
              "    </tr>\n",
              "  </tbody>\n",
              "</table>\n",
              "</div>"
            ],
            "text/plain": [
              "              date country_code  admin_level  ... samples    m50  m50_index\n",
              "437898  2020-08-10           US            2  ...     699  5.901        188\n",
              "437899  2020-08-11           US            2  ...     722  5.796        185\n",
              "\n",
              "[2 rows x 9 columns]"
            ]
          },
          "metadata": {
            "tags": []
          },
          "execution_count": 28
        }
      ]
    },
    {
      "cell_type": "code",
      "metadata": {
        "id": "Ugy0ycqY022N",
        "colab_type": "code",
        "colab": {
          "base_uri": "https://localhost:8080/",
          "height": 195
        },
        "outputId": "9b012ebc-a61c-423b-a75c-4f5fc7456aec"
      },
      "source": [
        "newyork_socialdistancing_data= socialdistancing_data[(socialdistancing_data['admin1']=='New York') &\n",
        "                                           (socialdistancing_data['admin_level']== 2)]\n",
        "\n",
        "newyork_socialdistancing_data.head()"
      ],
      "execution_count": 29,
      "outputs": [
        {
          "output_type": "execute_result",
          "data": {
            "text/html": [
              "<div>\n",
              "<style scoped>\n",
              "    .dataframe tbody tr th:only-of-type {\n",
              "        vertical-align: middle;\n",
              "    }\n",
              "\n",
              "    .dataframe tbody tr th {\n",
              "        vertical-align: top;\n",
              "    }\n",
              "\n",
              "    .dataframe thead th {\n",
              "        text-align: right;\n",
              "    }\n",
              "</style>\n",
              "<table border=\"1\" class=\"dataframe\">\n",
              "  <thead>\n",
              "    <tr style=\"text-align: right;\">\n",
              "      <th></th>\n",
              "      <th>date</th>\n",
              "      <th>country_code</th>\n",
              "      <th>admin_level</th>\n",
              "      <th>admin1</th>\n",
              "      <th>admin2</th>\n",
              "      <th>fips</th>\n",
              "      <th>samples</th>\n",
              "      <th>m50</th>\n",
              "      <th>m50_index</th>\n",
              "    </tr>\n",
              "  </thead>\n",
              "  <tbody>\n",
              "    <tr>\n",
              "      <th>254507</th>\n",
              "      <td>2020-03-01</td>\n",
              "      <td>US</td>\n",
              "      <td>2</td>\n",
              "      <td>New York</td>\n",
              "      <td>Albany County</td>\n",
              "      <td>36001.0</td>\n",
              "      <td>4095</td>\n",
              "      <td>2.616</td>\n",
              "      <td>54</td>\n",
              "    </tr>\n",
              "    <tr>\n",
              "      <th>254508</th>\n",
              "      <td>2020-03-02</td>\n",
              "      <td>US</td>\n",
              "      <td>2</td>\n",
              "      <td>New York</td>\n",
              "      <td>Albany County</td>\n",
              "      <td>36001.0</td>\n",
              "      <td>4376</td>\n",
              "      <td>4.680</td>\n",
              "      <td>97</td>\n",
              "    </tr>\n",
              "    <tr>\n",
              "      <th>254509</th>\n",
              "      <td>2020-03-03</td>\n",
              "      <td>US</td>\n",
              "      <td>2</td>\n",
              "      <td>New York</td>\n",
              "      <td>Albany County</td>\n",
              "      <td>36001.0</td>\n",
              "      <td>4686</td>\n",
              "      <td>4.778</td>\n",
              "      <td>100</td>\n",
              "    </tr>\n",
              "    <tr>\n",
              "      <th>254510</th>\n",
              "      <td>2020-03-04</td>\n",
              "      <td>US</td>\n",
              "      <td>2</td>\n",
              "      <td>New York</td>\n",
              "      <td>Albany County</td>\n",
              "      <td>36001.0</td>\n",
              "      <td>4842</td>\n",
              "      <td>4.486</td>\n",
              "      <td>93</td>\n",
              "    </tr>\n",
              "    <tr>\n",
              "      <th>254511</th>\n",
              "      <td>2020-03-05</td>\n",
              "      <td>US</td>\n",
              "      <td>2</td>\n",
              "      <td>New York</td>\n",
              "      <td>Albany County</td>\n",
              "      <td>36001.0</td>\n",
              "      <td>4548</td>\n",
              "      <td>5.129</td>\n",
              "      <td>107</td>\n",
              "    </tr>\n",
              "  </tbody>\n",
              "</table>\n",
              "</div>"
            ],
            "text/plain": [
              "              date country_code  admin_level  ... samples    m50  m50_index\n",
              "254507  2020-03-01           US            2  ...    4095  2.616         54\n",
              "254508  2020-03-02           US            2  ...    4376  4.680         97\n",
              "254509  2020-03-03           US            2  ...    4686  4.778        100\n",
              "254510  2020-03-04           US            2  ...    4842  4.486         93\n",
              "254511  2020-03-05           US            2  ...    4548  5.129        107\n",
              "\n",
              "[5 rows x 9 columns]"
            ]
          },
          "metadata": {
            "tags": []
          },
          "execution_count": 29
        }
      ]
    },
    {
      "cell_type": "code",
      "metadata": {
        "id": "-1cKTY4Q1IC2",
        "colab_type": "code",
        "colab": {
          "base_uri": "https://localhost:8080/",
          "height": 212
        },
        "outputId": "bccf0c71-35c1-4df0-f4f7-8998bb8cbc25"
      },
      "source": [
        "queens_social_distancing = newyork_socialdistancing_data[newyork_socialdistancing_data['admin2'] == 'Queens County']\n",
        "print(queens_social_distancing.shape)\n",
        "queens_social_distancing.head()"
      ],
      "execution_count": 30,
      "outputs": [
        {
          "output_type": "stream",
          "text": [
            "(162, 9)\n"
          ],
          "name": "stdout"
        },
        {
          "output_type": "execute_result",
          "data": {
            "text/html": [
              "<div>\n",
              "<style scoped>\n",
              "    .dataframe tbody tr th:only-of-type {\n",
              "        vertical-align: middle;\n",
              "    }\n",
              "\n",
              "    .dataframe tbody tr th {\n",
              "        vertical-align: top;\n",
              "    }\n",
              "\n",
              "    .dataframe thead th {\n",
              "        text-align: right;\n",
              "    }\n",
              "</style>\n",
              "<table border=\"1\" class=\"dataframe\">\n",
              "  <thead>\n",
              "    <tr style=\"text-align: right;\">\n",
              "      <th></th>\n",
              "      <th>date</th>\n",
              "      <th>country_code</th>\n",
              "      <th>admin_level</th>\n",
              "      <th>admin1</th>\n",
              "      <th>admin2</th>\n",
              "      <th>fips</th>\n",
              "      <th>samples</th>\n",
              "      <th>m50</th>\n",
              "      <th>m50_index</th>\n",
              "    </tr>\n",
              "  </thead>\n",
              "  <tbody>\n",
              "    <tr>\n",
              "      <th>260825</th>\n",
              "      <td>2020-03-01</td>\n",
              "      <td>US</td>\n",
              "      <td>2</td>\n",
              "      <td>New York</td>\n",
              "      <td>Queens County</td>\n",
              "      <td>36081.0</td>\n",
              "      <td>26218</td>\n",
              "      <td>1.339</td>\n",
              "      <td>35</td>\n",
              "    </tr>\n",
              "    <tr>\n",
              "      <th>260826</th>\n",
              "      <td>2020-03-02</td>\n",
              "      <td>US</td>\n",
              "      <td>2</td>\n",
              "      <td>New York</td>\n",
              "      <td>Queens County</td>\n",
              "      <td>36081.0</td>\n",
              "      <td>27435</td>\n",
              "      <td>3.813</td>\n",
              "      <td>99</td>\n",
              "    </tr>\n",
              "    <tr>\n",
              "      <th>260827</th>\n",
              "      <td>2020-03-03</td>\n",
              "      <td>US</td>\n",
              "      <td>2</td>\n",
              "      <td>New York</td>\n",
              "      <td>Queens County</td>\n",
              "      <td>36081.0</td>\n",
              "      <td>28459</td>\n",
              "      <td>3.747</td>\n",
              "      <td>98</td>\n",
              "    </tr>\n",
              "    <tr>\n",
              "      <th>260828</th>\n",
              "      <td>2020-03-04</td>\n",
              "      <td>US</td>\n",
              "      <td>2</td>\n",
              "      <td>New York</td>\n",
              "      <td>Queens County</td>\n",
              "      <td>36081.0</td>\n",
              "      <td>29480</td>\n",
              "      <td>3.822</td>\n",
              "      <td>99</td>\n",
              "    </tr>\n",
              "    <tr>\n",
              "      <th>260829</th>\n",
              "      <td>2020-03-05</td>\n",
              "      <td>US</td>\n",
              "      <td>2</td>\n",
              "      <td>New York</td>\n",
              "      <td>Queens County</td>\n",
              "      <td>36081.0</td>\n",
              "      <td>27602</td>\n",
              "      <td>4.052</td>\n",
              "      <td>106</td>\n",
              "    </tr>\n",
              "  </tbody>\n",
              "</table>\n",
              "</div>"
            ],
            "text/plain": [
              "              date country_code  admin_level  ... samples    m50  m50_index\n",
              "260825  2020-03-01           US            2  ...   26218  1.339         35\n",
              "260826  2020-03-02           US            2  ...   27435  3.813         99\n",
              "260827  2020-03-03           US            2  ...   28459  3.747         98\n",
              "260828  2020-03-04           US            2  ...   29480  3.822         99\n",
              "260829  2020-03-05           US            2  ...   27602  4.052        106\n",
              "\n",
              "[5 rows x 9 columns]"
            ]
          },
          "metadata": {
            "tags": []
          },
          "execution_count": 30
        }
      ]
    },
    {
      "cell_type": "markdown",
      "metadata": {
        "id": "ZIQnNfUB8SlA",
        "colab_type": "text"
      },
      "source": [
        "# Merge All"
      ]
    },
    {
      "cell_type": "code",
      "metadata": {
        "id": "vmW7r2mT4v3k",
        "colab_type": "code",
        "colab": {
          "base_uri": "https://localhost:8080/",
          "height": 531
        },
        "outputId": "9911cadf-4760-4012-b367-5c942e91602e"
      },
      "source": [
        "full_table = confirmed_df_long.merge(\n",
        "    right=death_df_long,\n",
        "    how='left',\n",
        "    on=[ 'UID', 'iso2', 'iso3', 'code3', 'FIPS', 'Admin2', 'Province_State',\n",
        "       'Country_Region', 'Lat', 'Long_', 'Combined_Key','Date']\n",
        ")\n",
        "\n",
        "full_table.head(10)"
      ],
      "execution_count": null,
      "outputs": [
        {
          "output_type": "execute_result",
          "data": {
            "text/html": [
              "<div>\n",
              "<style scoped>\n",
              "    .dataframe tbody tr th:only-of-type {\n",
              "        vertical-align: middle;\n",
              "    }\n",
              "\n",
              "    .dataframe tbody tr th {\n",
              "        vertical-align: top;\n",
              "    }\n",
              "\n",
              "    .dataframe thead th {\n",
              "        text-align: right;\n",
              "    }\n",
              "</style>\n",
              "<table border=\"1\" class=\"dataframe\">\n",
              "  <thead>\n",
              "    <tr style=\"text-align: right;\">\n",
              "      <th></th>\n",
              "      <th>UID</th>\n",
              "      <th>iso2</th>\n",
              "      <th>iso3</th>\n",
              "      <th>code3</th>\n",
              "      <th>FIPS</th>\n",
              "      <th>Admin2</th>\n",
              "      <th>Province_State</th>\n",
              "      <th>Country_Region</th>\n",
              "      <th>Lat</th>\n",
              "      <th>Long_</th>\n",
              "      <th>Combined_Key</th>\n",
              "      <th>Date</th>\n",
              "      <th>Confirmed</th>\n",
              "      <th>Population</th>\n",
              "      <th>Deaths</th>\n",
              "    </tr>\n",
              "  </thead>\n",
              "  <tbody>\n",
              "    <tr>\n",
              "      <th>0</th>\n",
              "      <td>84001001</td>\n",
              "      <td>US</td>\n",
              "      <td>USA</td>\n",
              "      <td>840</td>\n",
              "      <td>1001.0</td>\n",
              "      <td>Autauga</td>\n",
              "      <td>Alabama</td>\n",
              "      <td>US</td>\n",
              "      <td>32.539527</td>\n",
              "      <td>-86.644082</td>\n",
              "      <td>Autauga, Alabama, US</td>\n",
              "      <td>1/22/20</td>\n",
              "      <td>0</td>\n",
              "      <td>55869</td>\n",
              "      <td>0</td>\n",
              "    </tr>\n",
              "    <tr>\n",
              "      <th>1</th>\n",
              "      <td>84001003</td>\n",
              "      <td>US</td>\n",
              "      <td>USA</td>\n",
              "      <td>840</td>\n",
              "      <td>1003.0</td>\n",
              "      <td>Baldwin</td>\n",
              "      <td>Alabama</td>\n",
              "      <td>US</td>\n",
              "      <td>30.727750</td>\n",
              "      <td>-87.722071</td>\n",
              "      <td>Baldwin, Alabama, US</td>\n",
              "      <td>1/22/20</td>\n",
              "      <td>0</td>\n",
              "      <td>223234</td>\n",
              "      <td>0</td>\n",
              "    </tr>\n",
              "    <tr>\n",
              "      <th>2</th>\n",
              "      <td>84001005</td>\n",
              "      <td>US</td>\n",
              "      <td>USA</td>\n",
              "      <td>840</td>\n",
              "      <td>1005.0</td>\n",
              "      <td>Barbour</td>\n",
              "      <td>Alabama</td>\n",
              "      <td>US</td>\n",
              "      <td>31.868263</td>\n",
              "      <td>-85.387129</td>\n",
              "      <td>Barbour, Alabama, US</td>\n",
              "      <td>1/22/20</td>\n",
              "      <td>0</td>\n",
              "      <td>24686</td>\n",
              "      <td>0</td>\n",
              "    </tr>\n",
              "    <tr>\n",
              "      <th>3</th>\n",
              "      <td>84001007</td>\n",
              "      <td>US</td>\n",
              "      <td>USA</td>\n",
              "      <td>840</td>\n",
              "      <td>1007.0</td>\n",
              "      <td>Bibb</td>\n",
              "      <td>Alabama</td>\n",
              "      <td>US</td>\n",
              "      <td>32.996421</td>\n",
              "      <td>-87.125115</td>\n",
              "      <td>Bibb, Alabama, US</td>\n",
              "      <td>1/22/20</td>\n",
              "      <td>0</td>\n",
              "      <td>22394</td>\n",
              "      <td>0</td>\n",
              "    </tr>\n",
              "    <tr>\n",
              "      <th>4</th>\n",
              "      <td>84001009</td>\n",
              "      <td>US</td>\n",
              "      <td>USA</td>\n",
              "      <td>840</td>\n",
              "      <td>1009.0</td>\n",
              "      <td>Blount</td>\n",
              "      <td>Alabama</td>\n",
              "      <td>US</td>\n",
              "      <td>33.982109</td>\n",
              "      <td>-86.567906</td>\n",
              "      <td>Blount, Alabama, US</td>\n",
              "      <td>1/22/20</td>\n",
              "      <td>0</td>\n",
              "      <td>57826</td>\n",
              "      <td>0</td>\n",
              "    </tr>\n",
              "    <tr>\n",
              "      <th>5</th>\n",
              "      <td>84001011</td>\n",
              "      <td>US</td>\n",
              "      <td>USA</td>\n",
              "      <td>840</td>\n",
              "      <td>1011.0</td>\n",
              "      <td>Bullock</td>\n",
              "      <td>Alabama</td>\n",
              "      <td>US</td>\n",
              "      <td>32.100305</td>\n",
              "      <td>-85.712655</td>\n",
              "      <td>Bullock, Alabama, US</td>\n",
              "      <td>1/22/20</td>\n",
              "      <td>0</td>\n",
              "      <td>10101</td>\n",
              "      <td>0</td>\n",
              "    </tr>\n",
              "    <tr>\n",
              "      <th>6</th>\n",
              "      <td>84001013</td>\n",
              "      <td>US</td>\n",
              "      <td>USA</td>\n",
              "      <td>840</td>\n",
              "      <td>1013.0</td>\n",
              "      <td>Butler</td>\n",
              "      <td>Alabama</td>\n",
              "      <td>US</td>\n",
              "      <td>31.753001</td>\n",
              "      <td>-86.680575</td>\n",
              "      <td>Butler, Alabama, US</td>\n",
              "      <td>1/22/20</td>\n",
              "      <td>0</td>\n",
              "      <td>19448</td>\n",
              "      <td>0</td>\n",
              "    </tr>\n",
              "    <tr>\n",
              "      <th>7</th>\n",
              "      <td>84001015</td>\n",
              "      <td>US</td>\n",
              "      <td>USA</td>\n",
              "      <td>840</td>\n",
              "      <td>1015.0</td>\n",
              "      <td>Calhoun</td>\n",
              "      <td>Alabama</td>\n",
              "      <td>US</td>\n",
              "      <td>33.774837</td>\n",
              "      <td>-85.826304</td>\n",
              "      <td>Calhoun, Alabama, US</td>\n",
              "      <td>1/22/20</td>\n",
              "      <td>0</td>\n",
              "      <td>113605</td>\n",
              "      <td>0</td>\n",
              "    </tr>\n",
              "    <tr>\n",
              "      <th>8</th>\n",
              "      <td>84001017</td>\n",
              "      <td>US</td>\n",
              "      <td>USA</td>\n",
              "      <td>840</td>\n",
              "      <td>1017.0</td>\n",
              "      <td>Chambers</td>\n",
              "      <td>Alabama</td>\n",
              "      <td>US</td>\n",
              "      <td>32.913601</td>\n",
              "      <td>-85.390727</td>\n",
              "      <td>Chambers, Alabama, US</td>\n",
              "      <td>1/22/20</td>\n",
              "      <td>0</td>\n",
              "      <td>33254</td>\n",
              "      <td>0</td>\n",
              "    </tr>\n",
              "    <tr>\n",
              "      <th>9</th>\n",
              "      <td>84001019</td>\n",
              "      <td>US</td>\n",
              "      <td>USA</td>\n",
              "      <td>840</td>\n",
              "      <td>1019.0</td>\n",
              "      <td>Cherokee</td>\n",
              "      <td>Alabama</td>\n",
              "      <td>US</td>\n",
              "      <td>34.178060</td>\n",
              "      <td>-85.606390</td>\n",
              "      <td>Cherokee, Alabama, US</td>\n",
              "      <td>1/22/20</td>\n",
              "      <td>0</td>\n",
              "      <td>26196</td>\n",
              "      <td>0</td>\n",
              "    </tr>\n",
              "  </tbody>\n",
              "</table>\n",
              "</div>"
            ],
            "text/plain": [
              "        UID iso2 iso3  code3  ...     Date Confirmed Population Deaths\n",
              "0  84001001   US  USA    840  ...  1/22/20         0      55869      0\n",
              "1  84001003   US  USA    840  ...  1/22/20         0     223234      0\n",
              "2  84001005   US  USA    840  ...  1/22/20         0      24686      0\n",
              "3  84001007   US  USA    840  ...  1/22/20         0      22394      0\n",
              "4  84001009   US  USA    840  ...  1/22/20         0      57826      0\n",
              "5  84001011   US  USA    840  ...  1/22/20         0      10101      0\n",
              "6  84001013   US  USA    840  ...  1/22/20         0      19448      0\n",
              "7  84001015   US  USA    840  ...  1/22/20         0     113605      0\n",
              "8  84001017   US  USA    840  ...  1/22/20         0      33254      0\n",
              "9  84001019   US  USA    840  ...  1/22/20         0      26196      0\n",
              "\n",
              "[10 rows x 15 columns]"
            ]
          },
          "metadata": {
            "tags": []
          },
          "execution_count": 31
        }
      ]
    },
    {
      "cell_type": "markdown",
      "metadata": {
        "id": "cWlc5fLE6MtJ",
        "colab_type": "text"
      },
      "source": [
        "# Formula Computation from Baseline Value"
      ]
    },
    {
      "cell_type": "markdown",
      "metadata": {
        "id": "yOl124UA9qsR",
        "colab_type": "text"
      },
      "source": [
        "## For Social Distancing Metric"
      ]
    },
    {
      "cell_type": "code",
      "metadata": {
        "id": "kLTlhNgL_n4v",
        "colab_type": "code",
        "colab": {}
      },
      "source": [
        "start_date = '2020-05-05'\n",
        "end_date = '2020-05-13'\n",
        "start_date = '2020-02-17'\n",
        "end_date = '2020-03-07'\n",
        "mask = (queens_social_distancing['date'] >= start_date) & (queens_social_distancing['date'] <= end_date)"
      ],
      "execution_count": 59,
      "outputs": []
    },
    {
      "cell_type": "code",
      "metadata": {
        "id": "yjnV-NbQ9p21",
        "colab_type": "code",
        "colab": {
          "base_uri": "https://localhost:8080/",
          "height": 254
        },
        "outputId": "e7f6fb75-ac51-4b70-aa8f-6d7053298f02"
      },
      "source": [
        "df_queens_social_distancing =  queens_social_distancing.loc[mask]\n",
        "df_queens_social_distancing"
      ],
      "execution_count": 60,
      "outputs": [
        {
          "output_type": "execute_result",
          "data": {
            "text/html": [
              "<div>\n",
              "<style scoped>\n",
              "    .dataframe tbody tr th:only-of-type {\n",
              "        vertical-align: middle;\n",
              "    }\n",
              "\n",
              "    .dataframe tbody tr th {\n",
              "        vertical-align: top;\n",
              "    }\n",
              "\n",
              "    .dataframe thead th {\n",
              "        text-align: right;\n",
              "    }\n",
              "</style>\n",
              "<table border=\"1\" class=\"dataframe\">\n",
              "  <thead>\n",
              "    <tr style=\"text-align: right;\">\n",
              "      <th></th>\n",
              "      <th>date</th>\n",
              "      <th>country_code</th>\n",
              "      <th>admin_level</th>\n",
              "      <th>admin1</th>\n",
              "      <th>admin2</th>\n",
              "      <th>fips</th>\n",
              "      <th>samples</th>\n",
              "      <th>m50</th>\n",
              "      <th>m50_index</th>\n",
              "    </tr>\n",
              "  </thead>\n",
              "  <tbody>\n",
              "    <tr>\n",
              "      <th>260825</th>\n",
              "      <td>2020-03-01</td>\n",
              "      <td>US</td>\n",
              "      <td>2</td>\n",
              "      <td>New York</td>\n",
              "      <td>Queens County</td>\n",
              "      <td>36081.0</td>\n",
              "      <td>26218</td>\n",
              "      <td>1.339</td>\n",
              "      <td>35</td>\n",
              "    </tr>\n",
              "    <tr>\n",
              "      <th>260826</th>\n",
              "      <td>2020-03-02</td>\n",
              "      <td>US</td>\n",
              "      <td>2</td>\n",
              "      <td>New York</td>\n",
              "      <td>Queens County</td>\n",
              "      <td>36081.0</td>\n",
              "      <td>27435</td>\n",
              "      <td>3.813</td>\n",
              "      <td>99</td>\n",
              "    </tr>\n",
              "    <tr>\n",
              "      <th>260827</th>\n",
              "      <td>2020-03-03</td>\n",
              "      <td>US</td>\n",
              "      <td>2</td>\n",
              "      <td>New York</td>\n",
              "      <td>Queens County</td>\n",
              "      <td>36081.0</td>\n",
              "      <td>28459</td>\n",
              "      <td>3.747</td>\n",
              "      <td>98</td>\n",
              "    </tr>\n",
              "    <tr>\n",
              "      <th>260828</th>\n",
              "      <td>2020-03-04</td>\n",
              "      <td>US</td>\n",
              "      <td>2</td>\n",
              "      <td>New York</td>\n",
              "      <td>Queens County</td>\n",
              "      <td>36081.0</td>\n",
              "      <td>29480</td>\n",
              "      <td>3.822</td>\n",
              "      <td>99</td>\n",
              "    </tr>\n",
              "    <tr>\n",
              "      <th>260829</th>\n",
              "      <td>2020-03-05</td>\n",
              "      <td>US</td>\n",
              "      <td>2</td>\n",
              "      <td>New York</td>\n",
              "      <td>Queens County</td>\n",
              "      <td>36081.0</td>\n",
              "      <td>27602</td>\n",
              "      <td>4.052</td>\n",
              "      <td>106</td>\n",
              "    </tr>\n",
              "    <tr>\n",
              "      <th>260830</th>\n",
              "      <td>2020-03-06</td>\n",
              "      <td>US</td>\n",
              "      <td>2</td>\n",
              "      <td>New York</td>\n",
              "      <td>Queens County</td>\n",
              "      <td>36081.0</td>\n",
              "      <td>27713</td>\n",
              "      <td>3.921</td>\n",
              "      <td>102</td>\n",
              "    </tr>\n",
              "    <tr>\n",
              "      <th>260831</th>\n",
              "      <td>2020-03-07</td>\n",
              "      <td>US</td>\n",
              "      <td>2</td>\n",
              "      <td>New York</td>\n",
              "      <td>Queens County</td>\n",
              "      <td>36081.0</td>\n",
              "      <td>27919</td>\n",
              "      <td>2.189</td>\n",
              "      <td>57</td>\n",
              "    </tr>\n",
              "  </tbody>\n",
              "</table>\n",
              "</div>"
            ],
            "text/plain": [
              "              date country_code  admin_level  ... samples    m50  m50_index\n",
              "260825  2020-03-01           US            2  ...   26218  1.339         35\n",
              "260826  2020-03-02           US            2  ...   27435  3.813         99\n",
              "260827  2020-03-03           US            2  ...   28459  3.747         98\n",
              "260828  2020-03-04           US            2  ...   29480  3.822         99\n",
              "260829  2020-03-05           US            2  ...   27602  4.052        106\n",
              "260830  2020-03-06           US            2  ...   27713  3.921        102\n",
              "260831  2020-03-07           US            2  ...   27919  2.189         57\n",
              "\n",
              "[7 rows x 9 columns]"
            ]
          },
          "metadata": {
            "tags": []
          },
          "execution_count": 60
        }
      ]
    },
    {
      "cell_type": "code",
      "metadata": {
        "id": "JxsRz9b7HVPL",
        "colab_type": "code",
        "colab": {
          "base_uri": "https://localhost:8080/",
          "height": 77
        },
        "outputId": "ce1f23ed-8c64-476a-8477-02deb92470ea"
      },
      "source": [
        "queens_social_distancing_base = (\n",
        "    df_queens_social_distancing\n",
        "    .pipe(lambda x: x.assign(gains_pctg=x[\"m50\"]))\n",
        "    .groupby(['admin1','admin2','fips'])\n",
        "    .agg({\"gains_pctg\": \"median\"})\n",
        "    .reset_index()\n",
        "    .rename(columns={\"gains_pctg\": \"m50\"})\n",
        ")\n",
        "queens_social_distancing_base"
      ],
      "execution_count": 61,
      "outputs": [
        {
          "output_type": "execute_result",
          "data": {
            "text/html": [
              "<div>\n",
              "<style scoped>\n",
              "    .dataframe tbody tr th:only-of-type {\n",
              "        vertical-align: middle;\n",
              "    }\n",
              "\n",
              "    .dataframe tbody tr th {\n",
              "        vertical-align: top;\n",
              "    }\n",
              "\n",
              "    .dataframe thead th {\n",
              "        text-align: right;\n",
              "    }\n",
              "</style>\n",
              "<table border=\"1\" class=\"dataframe\">\n",
              "  <thead>\n",
              "    <tr style=\"text-align: right;\">\n",
              "      <th></th>\n",
              "      <th>admin1</th>\n",
              "      <th>admin2</th>\n",
              "      <th>fips</th>\n",
              "      <th>m50</th>\n",
              "    </tr>\n",
              "  </thead>\n",
              "  <tbody>\n",
              "    <tr>\n",
              "      <th>0</th>\n",
              "      <td>New York</td>\n",
              "      <td>Queens County</td>\n",
              "      <td>36081.0</td>\n",
              "      <td>3.813</td>\n",
              "    </tr>\n",
              "  </tbody>\n",
              "</table>\n",
              "</div>"
            ],
            "text/plain": [
              "     admin1         admin2     fips    m50\n",
              "0  New York  Queens County  36081.0  3.813"
            ]
          },
          "metadata": {
            "tags": []
          },
          "execution_count": 61
        }
      ]
    },
    {
      "cell_type": "code",
      "metadata": {
        "id": "hK5cNe0QNycD",
        "colab_type": "code",
        "colab": {
          "base_uri": "https://localhost:8080/",
          "height": 34
        },
        "outputId": "bb0cfc13-83d4-45a8-c94d-5eb7c4c4aa86"
      },
      "source": [
        "queens_social_distancing_base.at[0,'m50']"
      ],
      "execution_count": 56,
      "outputs": [
        {
          "output_type": "execute_result",
          "data": {
            "text/plain": [
              "0.02"
            ]
          },
          "metadata": {
            "tags": []
          },
          "execution_count": 56
        }
      ]
    },
    {
      "cell_type": "markdown",
      "metadata": {
        "id": "I_fwHD0dN9Ib",
        "colab_type": "text"
      },
      "source": [
        "computing formula : m50_baseline = 100 * m50/queens_social_distancing_base.at[0,'m50']"
      ]
    },
    {
      "cell_type": "code",
      "metadata": {
        "id": "eyhpyF3pNaLs",
        "colab_type": "code",
        "colab": {}
      },
      "source": [
        "socialdistancing_data['m50_baseline'] = socialdistancing_data['m50'].apply(lambda x: 100 * (x/queens_social_distancing_base.at[0,'m50']))\n"
      ],
      "execution_count": 62,
      "outputs": []
    },
    {
      "cell_type": "code",
      "metadata": {
        "id": "5AX9IVzKPAl3",
        "colab_type": "code",
        "colab": {
          "base_uri": "https://localhost:8080/",
          "height": 402
        },
        "outputId": "ff065bfc-c08f-42e2-d0ab-c7ffc13865b2"
      },
      "source": [
        "socialdistancing_data[socialdistancing_data['admin1'] == 'California']"
      ],
      "execution_count": 63,
      "outputs": [
        {
          "output_type": "execute_result",
          "data": {
            "text/html": [
              "<div>\n",
              "<style scoped>\n",
              "    .dataframe tbody tr th:only-of-type {\n",
              "        vertical-align: middle;\n",
              "    }\n",
              "\n",
              "    .dataframe tbody tr th {\n",
              "        vertical-align: top;\n",
              "    }\n",
              "\n",
              "    .dataframe thead th {\n",
              "        text-align: right;\n",
              "    }\n",
              "</style>\n",
              "<table border=\"1\" class=\"dataframe\">\n",
              "  <thead>\n",
              "    <tr style=\"text-align: right;\">\n",
              "      <th></th>\n",
              "      <th>date</th>\n",
              "      <th>country_code</th>\n",
              "      <th>admin_level</th>\n",
              "      <th>admin1</th>\n",
              "      <th>admin2</th>\n",
              "      <th>fips</th>\n",
              "      <th>samples</th>\n",
              "      <th>m50</th>\n",
              "      <th>m50_index</th>\n",
              "      <th>m50_baseline</th>\n",
              "    </tr>\n",
              "  </thead>\n",
              "  <tbody>\n",
              "    <tr>\n",
              "      <th>26590</th>\n",
              "      <td>2020-03-01</td>\n",
              "      <td>US</td>\n",
              "      <td>1</td>\n",
              "      <td>California</td>\n",
              "      <td>NaN</td>\n",
              "      <td>6.0</td>\n",
              "      <td>451282</td>\n",
              "      <td>4.122</td>\n",
              "      <td>60</td>\n",
              "      <td>108.103855</td>\n",
              "    </tr>\n",
              "    <tr>\n",
              "      <th>26591</th>\n",
              "      <td>2020-03-02</td>\n",
              "      <td>US</td>\n",
              "      <td>1</td>\n",
              "      <td>California</td>\n",
              "      <td>NaN</td>\n",
              "      <td>6.0</td>\n",
              "      <td>457175</td>\n",
              "      <td>6.725</td>\n",
              "      <td>98</td>\n",
              "      <td>176.370312</td>\n",
              "    </tr>\n",
              "    <tr>\n",
              "      <th>26592</th>\n",
              "      <td>2020-03-03</td>\n",
              "      <td>US</td>\n",
              "      <td>1</td>\n",
              "      <td>California</td>\n",
              "      <td>NaN</td>\n",
              "      <td>6.0</td>\n",
              "      <td>472598</td>\n",
              "      <td>6.842</td>\n",
              "      <td>100</td>\n",
              "      <td>179.438762</td>\n",
              "    </tr>\n",
              "    <tr>\n",
              "      <th>26593</th>\n",
              "      <td>2020-03-04</td>\n",
              "      <td>US</td>\n",
              "      <td>1</td>\n",
              "      <td>California</td>\n",
              "      <td>NaN</td>\n",
              "      <td>6.0</td>\n",
              "      <td>481255</td>\n",
              "      <td>6.827</td>\n",
              "      <td>99</td>\n",
              "      <td>179.045371</td>\n",
              "    </tr>\n",
              "    <tr>\n",
              "      <th>26594</th>\n",
              "      <td>2020-03-05</td>\n",
              "      <td>US</td>\n",
              "      <td>1</td>\n",
              "      <td>California</td>\n",
              "      <td>NaN</td>\n",
              "      <td>6.0</td>\n",
              "      <td>458159</td>\n",
              "      <td>7.270</td>\n",
              "      <td>106</td>\n",
              "      <td>190.663520</td>\n",
              "    </tr>\n",
              "    <tr>\n",
              "      <th>...</th>\n",
              "      <td>...</td>\n",
              "      <td>...</td>\n",
              "      <td>...</td>\n",
              "      <td>...</td>\n",
              "      <td>...</td>\n",
              "      <td>...</td>\n",
              "      <td>...</td>\n",
              "      <td>...</td>\n",
              "      <td>...</td>\n",
              "      <td>...</td>\n",
              "    </tr>\n",
              "    <tr>\n",
              "      <th>35425</th>\n",
              "      <td>2020-08-07</td>\n",
              "      <td>US</td>\n",
              "      <td>2</td>\n",
              "      <td>California</td>\n",
              "      <td>Yuba County</td>\n",
              "      <td>6115.0</td>\n",
              "      <td>1260</td>\n",
              "      <td>5.792</td>\n",
              "      <td>61</td>\n",
              "      <td>151.901390</td>\n",
              "    </tr>\n",
              "    <tr>\n",
              "      <th>35426</th>\n",
              "      <td>2020-08-08</td>\n",
              "      <td>US</td>\n",
              "      <td>2</td>\n",
              "      <td>California</td>\n",
              "      <td>Yuba County</td>\n",
              "      <td>6115.0</td>\n",
              "      <td>1183</td>\n",
              "      <td>3.720</td>\n",
              "      <td>39</td>\n",
              "      <td>97.560976</td>\n",
              "    </tr>\n",
              "    <tr>\n",
              "      <th>35427</th>\n",
              "      <td>2020-08-09</td>\n",
              "      <td>US</td>\n",
              "      <td>2</td>\n",
              "      <td>California</td>\n",
              "      <td>Yuba County</td>\n",
              "      <td>6115.0</td>\n",
              "      <td>1231</td>\n",
              "      <td>1.465</td>\n",
              "      <td>15</td>\n",
              "      <td>38.421191</td>\n",
              "    </tr>\n",
              "    <tr>\n",
              "      <th>35428</th>\n",
              "      <td>2020-08-10</td>\n",
              "      <td>US</td>\n",
              "      <td>2</td>\n",
              "      <td>California</td>\n",
              "      <td>Yuba County</td>\n",
              "      <td>6115.0</td>\n",
              "      <td>1297</td>\n",
              "      <td>4.869</td>\n",
              "      <td>51</td>\n",
              "      <td>127.694729</td>\n",
              "    </tr>\n",
              "    <tr>\n",
              "      <th>35429</th>\n",
              "      <td>2020-08-11</td>\n",
              "      <td>US</td>\n",
              "      <td>2</td>\n",
              "      <td>California</td>\n",
              "      <td>Yuba County</td>\n",
              "      <td>6115.0</td>\n",
              "      <td>1315</td>\n",
              "      <td>5.174</td>\n",
              "      <td>54</td>\n",
              "      <td>135.693680</td>\n",
              "    </tr>\n",
              "  </tbody>\n",
              "</table>\n",
              "<p>8840 rows × 10 columns</p>\n",
              "</div>"
            ],
            "text/plain": [
              "             date country_code  admin_level  ...    m50 m50_index  m50_baseline\n",
              "26590  2020-03-01           US            1  ...  4.122        60    108.103855\n",
              "26591  2020-03-02           US            1  ...  6.725        98    176.370312\n",
              "26592  2020-03-03           US            1  ...  6.842       100    179.438762\n",
              "26593  2020-03-04           US            1  ...  6.827        99    179.045371\n",
              "26594  2020-03-05           US            1  ...  7.270       106    190.663520\n",
              "...           ...          ...          ...  ...    ...       ...           ...\n",
              "35425  2020-08-07           US            2  ...  5.792        61    151.901390\n",
              "35426  2020-08-08           US            2  ...  3.720        39     97.560976\n",
              "35427  2020-08-09           US            2  ...  1.465        15     38.421191\n",
              "35428  2020-08-10           US            2  ...  4.869        51    127.694729\n",
              "35429  2020-08-11           US            2  ...  5.174        54    135.693680\n",
              "\n",
              "[8840 rows x 10 columns]"
            ]
          },
          "metadata": {
            "tags": []
          },
          "execution_count": 63
        }
      ]
    }
  ]
}