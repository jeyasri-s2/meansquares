{
  "nbformat": 4,
  "nbformat_minor": 0,
  "metadata": {
    "colab": {
      "name": "Google-MobilityDataAnalysis.ipynb",
      "provenance": [],
      "collapsed_sections": [],
      "authorship_tag": "ABX9TyMMqX8X1ty1b7RljJ38vREx",
      "include_colab_link": true
    },
    "kernelspec": {
      "name": "python3",
      "display_name": "Python 3"
    }
  },
  "cells": [
    {
      "cell_type": "markdown",
      "metadata": {
        "id": "view-in-github",
        "colab_type": "text"
      },
      "source": [
        "<a href=\"https://colab.research.google.com/github/aarsanjani/meansquares/blob/master/Google_MobilityDataAnalysis.ipynb\" target=\"_parent\"><img src=\"https://colab.research.google.com/assets/colab-badge.svg\" alt=\"Open In Colab\"/></a>"
      ]
    },
    {
      "cell_type": "markdown",
      "metadata": {
        "id": "4gJ109O_DDkt",
        "colab_type": "text"
      },
      "source": [
        "## Google mobility Data\n",
        "\n",
        "* Data downloaded from : https://www.google.com/covid19/mobility/"
      ]
    },
    {
      "cell_type": "code",
      "metadata": {
        "id": "ti692gbbDHit",
        "colab_type": "code",
        "colab": {
          "base_uri": "https://localhost:8080/",
          "height": 34
        },
        "outputId": "09729cb3-4e97-44b5-8b82-c2fec2ec17a9"
      },
      "source": [
        "!pip install wget"
      ],
      "execution_count": 21,
      "outputs": [
        {
          "output_type": "stream",
          "text": [
            "Requirement already satisfied: wget in /usr/local/lib/python3.6/dist-packages (3.2)\n"
          ],
          "name": "stdout"
        }
      ]
    },
    {
      "cell_type": "code",
      "metadata": {
        "id": "1TPomQsaDJP6",
        "colab_type": "code",
        "colab": {}
      },
      "source": [
        "import pandas as pd\n",
        "import seaborn as sns\n",
        "import numpy as np\n",
        "import matplotlib.pyplot as plt\n",
        "import os\n",
        "import wget\n",
        "from pandas import Series, datetime\n",
        "from pandas.plotting import scatter_matrix, autocorrelation_plot\n",
        "from sklearn.preprocessing import StandardScaler, RobustScaler\n",
        "from sklearn.model_selection import train_test_split, KFold, cross_val_score, GridSearchCV, TimeSeriesSplit\n",
        "from sklearn import metrics\n",
        "from sklearn.metrics import classification_report, confusion_matrix, accuracy_score, mean_squared_error\n",
        "from sklearn.pipeline import Pipeline\n",
        "from sklearn.linear_model import LogisticRegression\n",
        "from sklearn.tree import DecisionTreeClassifier\n",
        "from sklearn.neighbors import KNeighborsClassifier\n",
        "from sklearn.discriminant_analysis import LinearDiscriminantAnalysis\n",
        "from sklearn.naive_bayes import GaussianNB\n",
        "from sklearn.cluster import KMeans\n",
        "from sklearn.svm import SVC\n",
        "from sklearn.ensemble import AdaBoostClassifier, GradientBoostingClassifier, RandomForestClassifier, ExtraTreesClassifier\n",
        "from sklearn.metrics import roc_curve, auc\n",
        "import random\n",
        "from statsmodels.graphics.tsaplots import plot_acf, plot_pacf\n",
        "from statsmodels.tsa.arima_model import ARIMA\n",
        "from xgboost import XGBClassifier\n",
        "from sklearn.mixture import GaussianMixture"
      ],
      "execution_count": 22,
      "outputs": []
    },
    {
      "cell_type": "code",
      "metadata": {
        "id": "2R8vJH3GC-Ue",
        "colab_type": "code",
        "colab": {
          "base_uri": "https://localhost:8080/",
          "height": 35
        },
        "outputId": "f88b5e15-412c-4475-ff07-00fb692c2f46"
      },
      "source": [
        "download_url = 'https://www.gstatic.com/covid19/mobility/Global_Mobility_Report.csv?cachebust=94537edba4db1128'\n",
        "\n",
        "filename = wget.download(download_url)\n",
        "\n",
        "filename"
      ],
      "execution_count": 23,
      "outputs": [
        {
          "output_type": "execute_result",
          "data": {
            "application/vnd.google.colaboratory.intrinsic+json": {
              "type": "string"
            },
            "text/plain": [
              "'Global_Mobility_Report (1).csv'"
            ]
          },
          "metadata": {
            "tags": []
          },
          "execution_count": 23
        }
      ]
    },
    {
      "cell_type": "code",
      "metadata": {
        "id": "vLBqB9fbDXiW",
        "colab_type": "code",
        "colab": {
          "base_uri": "https://localhost:8080/",
          "height": 165
        },
        "outputId": "af972c74-1cdf-4616-ecb6-927ab9e2a178"
      },
      "source": [
        "mobility_data = pd.read_csv(filename,low_memory=False)\n",
        "mobility_data.head(2)"
      ],
      "execution_count": 24,
      "outputs": [
        {
          "output_type": "execute_result",
          "data": {
            "text/html": [
              "<div>\n",
              "<style scoped>\n",
              "    .dataframe tbody tr th:only-of-type {\n",
              "        vertical-align: middle;\n",
              "    }\n",
              "\n",
              "    .dataframe tbody tr th {\n",
              "        vertical-align: top;\n",
              "    }\n",
              "\n",
              "    .dataframe thead th {\n",
              "        text-align: right;\n",
              "    }\n",
              "</style>\n",
              "<table border=\"1\" class=\"dataframe\">\n",
              "  <thead>\n",
              "    <tr style=\"text-align: right;\">\n",
              "      <th></th>\n",
              "      <th>country_region_code</th>\n",
              "      <th>country_region</th>\n",
              "      <th>sub_region_1</th>\n",
              "      <th>sub_region_2</th>\n",
              "      <th>metro_area</th>\n",
              "      <th>iso_3166_2_code</th>\n",
              "      <th>census_fips_code</th>\n",
              "      <th>date</th>\n",
              "      <th>retail_and_recreation_percent_change_from_baseline</th>\n",
              "      <th>grocery_and_pharmacy_percent_change_from_baseline</th>\n",
              "      <th>parks_percent_change_from_baseline</th>\n",
              "      <th>transit_stations_percent_change_from_baseline</th>\n",
              "      <th>workplaces_percent_change_from_baseline</th>\n",
              "      <th>residential_percent_change_from_baseline</th>\n",
              "    </tr>\n",
              "  </thead>\n",
              "  <tbody>\n",
              "    <tr>\n",
              "      <th>0</th>\n",
              "      <td>AE</td>\n",
              "      <td>United Arab Emirates</td>\n",
              "      <td>NaN</td>\n",
              "      <td>NaN</td>\n",
              "      <td>NaN</td>\n",
              "      <td>NaN</td>\n",
              "      <td>NaN</td>\n",
              "      <td>2020-02-15</td>\n",
              "      <td>0.0</td>\n",
              "      <td>4.0</td>\n",
              "      <td>5.0</td>\n",
              "      <td>0.0</td>\n",
              "      <td>2.0</td>\n",
              "      <td>1.0</td>\n",
              "    </tr>\n",
              "    <tr>\n",
              "      <th>1</th>\n",
              "      <td>AE</td>\n",
              "      <td>United Arab Emirates</td>\n",
              "      <td>NaN</td>\n",
              "      <td>NaN</td>\n",
              "      <td>NaN</td>\n",
              "      <td>NaN</td>\n",
              "      <td>NaN</td>\n",
              "      <td>2020-02-16</td>\n",
              "      <td>1.0</td>\n",
              "      <td>4.0</td>\n",
              "      <td>4.0</td>\n",
              "      <td>1.0</td>\n",
              "      <td>2.0</td>\n",
              "      <td>1.0</td>\n",
              "    </tr>\n",
              "  </tbody>\n",
              "</table>\n",
              "</div>"
            ],
            "text/plain": [
              "  country_region_code  ... residential_percent_change_from_baseline\n",
              "0                  AE  ...                                      1.0\n",
              "1                  AE  ...                                      1.0\n",
              "\n",
              "[2 rows x 14 columns]"
            ]
          },
          "metadata": {
            "tags": []
          },
          "execution_count": 24
        }
      ]
    },
    {
      "cell_type": "code",
      "metadata": {
        "id": "xoBBomR8Dap1",
        "colab_type": "code",
        "colab": {
          "base_uri": "https://localhost:8080/",
          "height": 309
        },
        "outputId": "e4ca6308-be71-4ad6-c50b-78d5fd8acc4c"
      },
      "source": [
        "US_mobility = mobility_data[mobility_data['country_region'] == 'United States']\n",
        "US_mobility.head()"
      ],
      "execution_count": 25,
      "outputs": [
        {
          "output_type": "execute_result",
          "data": {
            "text/html": [
              "<div>\n",
              "<style scoped>\n",
              "    .dataframe tbody tr th:only-of-type {\n",
              "        vertical-align: middle;\n",
              "    }\n",
              "\n",
              "    .dataframe tbody tr th {\n",
              "        vertical-align: top;\n",
              "    }\n",
              "\n",
              "    .dataframe thead th {\n",
              "        text-align: right;\n",
              "    }\n",
              "</style>\n",
              "<table border=\"1\" class=\"dataframe\">\n",
              "  <thead>\n",
              "    <tr style=\"text-align: right;\">\n",
              "      <th></th>\n",
              "      <th>country_region_code</th>\n",
              "      <th>country_region</th>\n",
              "      <th>sub_region_1</th>\n",
              "      <th>sub_region_2</th>\n",
              "      <th>metro_area</th>\n",
              "      <th>iso_3166_2_code</th>\n",
              "      <th>census_fips_code</th>\n",
              "      <th>date</th>\n",
              "      <th>retail_and_recreation_percent_change_from_baseline</th>\n",
              "      <th>grocery_and_pharmacy_percent_change_from_baseline</th>\n",
              "      <th>parks_percent_change_from_baseline</th>\n",
              "      <th>transit_stations_percent_change_from_baseline</th>\n",
              "      <th>workplaces_percent_change_from_baseline</th>\n",
              "      <th>residential_percent_change_from_baseline</th>\n",
              "    </tr>\n",
              "  </thead>\n",
              "  <tbody>\n",
              "    <tr>\n",
              "      <th>1089802</th>\n",
              "      <td>US</td>\n",
              "      <td>United States</td>\n",
              "      <td>NaN</td>\n",
              "      <td>NaN</td>\n",
              "      <td>NaN</td>\n",
              "      <td>NaN</td>\n",
              "      <td>NaN</td>\n",
              "      <td>2020-02-15</td>\n",
              "      <td>6.0</td>\n",
              "      <td>2.0</td>\n",
              "      <td>15.0</td>\n",
              "      <td>3.0</td>\n",
              "      <td>2.0</td>\n",
              "      <td>-1.0</td>\n",
              "    </tr>\n",
              "    <tr>\n",
              "      <th>1089803</th>\n",
              "      <td>US</td>\n",
              "      <td>United States</td>\n",
              "      <td>NaN</td>\n",
              "      <td>NaN</td>\n",
              "      <td>NaN</td>\n",
              "      <td>NaN</td>\n",
              "      <td>NaN</td>\n",
              "      <td>2020-02-16</td>\n",
              "      <td>7.0</td>\n",
              "      <td>1.0</td>\n",
              "      <td>16.0</td>\n",
              "      <td>2.0</td>\n",
              "      <td>0.0</td>\n",
              "      <td>-1.0</td>\n",
              "    </tr>\n",
              "    <tr>\n",
              "      <th>1089804</th>\n",
              "      <td>US</td>\n",
              "      <td>United States</td>\n",
              "      <td>NaN</td>\n",
              "      <td>NaN</td>\n",
              "      <td>NaN</td>\n",
              "      <td>NaN</td>\n",
              "      <td>NaN</td>\n",
              "      <td>2020-02-17</td>\n",
              "      <td>6.0</td>\n",
              "      <td>0.0</td>\n",
              "      <td>28.0</td>\n",
              "      <td>-9.0</td>\n",
              "      <td>-24.0</td>\n",
              "      <td>5.0</td>\n",
              "    </tr>\n",
              "    <tr>\n",
              "      <th>1089805</th>\n",
              "      <td>US</td>\n",
              "      <td>United States</td>\n",
              "      <td>NaN</td>\n",
              "      <td>NaN</td>\n",
              "      <td>NaN</td>\n",
              "      <td>NaN</td>\n",
              "      <td>NaN</td>\n",
              "      <td>2020-02-18</td>\n",
              "      <td>0.0</td>\n",
              "      <td>-1.0</td>\n",
              "      <td>6.0</td>\n",
              "      <td>1.0</td>\n",
              "      <td>0.0</td>\n",
              "      <td>1.0</td>\n",
              "    </tr>\n",
              "    <tr>\n",
              "      <th>1089806</th>\n",
              "      <td>US</td>\n",
              "      <td>United States</td>\n",
              "      <td>NaN</td>\n",
              "      <td>NaN</td>\n",
              "      <td>NaN</td>\n",
              "      <td>NaN</td>\n",
              "      <td>NaN</td>\n",
              "      <td>2020-02-19</td>\n",
              "      <td>2.0</td>\n",
              "      <td>0.0</td>\n",
              "      <td>8.0</td>\n",
              "      <td>1.0</td>\n",
              "      <td>1.0</td>\n",
              "      <td>0.0</td>\n",
              "    </tr>\n",
              "  </tbody>\n",
              "</table>\n",
              "</div>"
            ],
            "text/plain": [
              "        country_region_code  ... residential_percent_change_from_baseline\n",
              "1089802                  US  ...                                     -1.0\n",
              "1089803                  US  ...                                     -1.0\n",
              "1089804                  US  ...                                      5.0\n",
              "1089805                  US  ...                                      1.0\n",
              "1089806                  US  ...                                      0.0\n",
              "\n",
              "[5 rows x 14 columns]"
            ]
          },
          "metadata": {
            "tags": []
          },
          "execution_count": 25
        }
      ]
    },
    {
      "cell_type": "markdown",
      "metadata": {
        "id": "mN-SP5yFEDU-",
        "colab_type": "text"
      },
      "source": [
        "## 'Sub region' column has the State data "
      ]
    },
    {
      "cell_type": "code",
      "metadata": {
        "id": "WEpRkBGtDgPT",
        "colab_type": "code",
        "colab": {
          "base_uri": "https://localhost:8080/",
          "height": 204
        },
        "outputId": "9bcc559c-f2b4-43a9-aa76-9d5d1da1b690"
      },
      "source": [
        "US_mobility['sub_region_1'].unique()"
      ],
      "execution_count": 26,
      "outputs": [
        {
          "output_type": "execute_result",
          "data": {
            "text/plain": [
              "array([nan, 'Alabama', 'Alaska', 'Arizona', 'Arkansas', 'California',\n",
              "       'Colorado', 'Connecticut', 'Delaware', 'District of Columbia',\n",
              "       'Florida', 'Georgia', 'Hawaii', 'Idaho', 'Illinois', 'Indiana',\n",
              "       'Iowa', 'Kansas', 'Kentucky', 'Louisiana', 'Maine', 'Maryland',\n",
              "       'Massachusetts', 'Michigan', 'Minnesota', 'Mississippi',\n",
              "       'Missouri', 'Montana', 'Nebraska', 'Nevada', 'New Hampshire',\n",
              "       'New Jersey', 'New Mexico', 'New York', 'North Carolina',\n",
              "       'North Dakota', 'Ohio', 'Oklahoma', 'Oregon', 'Pennsylvania',\n",
              "       'Rhode Island', 'South Carolina', 'South Dakota', 'Tennessee',\n",
              "       'Texas', 'Utah', 'Vermont', 'Virginia', 'Washington',\n",
              "       'West Virginia', 'Wisconsin', 'Wyoming'], dtype=object)"
            ]
          },
          "metadata": {
            "tags": []
          },
          "execution_count": 26
        }
      ]
    },
    {
      "cell_type": "code",
      "metadata": {
        "id": "71J9ZtNHELTe",
        "colab_type": "code",
        "colab": {
          "base_uri": "https://localhost:8080/",
          "height": 165
        },
        "outputId": "96cd50b4-26c3-40d3-cdb1-a97fa3039b8a"
      },
      "source": [
        "CA_mobility_data = US_mobility[US_mobility['sub_region_1'] == 'California' ]\n",
        "#CA_mobility_data.dropna()\n",
        "CA_mobility_data.head(2)"
      ],
      "execution_count": 27,
      "outputs": [
        {
          "output_type": "execute_result",
          "data": {
            "text/html": [
              "<div>\n",
              "<style scoped>\n",
              "    .dataframe tbody tr th:only-of-type {\n",
              "        vertical-align: middle;\n",
              "    }\n",
              "\n",
              "    .dataframe tbody tr th {\n",
              "        vertical-align: top;\n",
              "    }\n",
              "\n",
              "    .dataframe thead th {\n",
              "        text-align: right;\n",
              "    }\n",
              "</style>\n",
              "<table border=\"1\" class=\"dataframe\">\n",
              "  <thead>\n",
              "    <tr style=\"text-align: right;\">\n",
              "      <th></th>\n",
              "      <th>country_region_code</th>\n",
              "      <th>country_region</th>\n",
              "      <th>sub_region_1</th>\n",
              "      <th>sub_region_2</th>\n",
              "      <th>metro_area</th>\n",
              "      <th>iso_3166_2_code</th>\n",
              "      <th>census_fips_code</th>\n",
              "      <th>date</th>\n",
              "      <th>retail_and_recreation_percent_change_from_baseline</th>\n",
              "      <th>grocery_and_pharmacy_percent_change_from_baseline</th>\n",
              "      <th>parks_percent_change_from_baseline</th>\n",
              "      <th>transit_stations_percent_change_from_baseline</th>\n",
              "      <th>workplaces_percent_change_from_baseline</th>\n",
              "      <th>residential_percent_change_from_baseline</th>\n",
              "    </tr>\n",
              "  </thead>\n",
              "  <tbody>\n",
              "    <tr>\n",
              "      <th>1116351</th>\n",
              "      <td>US</td>\n",
              "      <td>United States</td>\n",
              "      <td>California</td>\n",
              "      <td>NaN</td>\n",
              "      <td>NaN</td>\n",
              "      <td>US-CA</td>\n",
              "      <td>NaN</td>\n",
              "      <td>2020-02-15</td>\n",
              "      <td>1.0</td>\n",
              "      <td>1.0</td>\n",
              "      <td>19.0</td>\n",
              "      <td>1.0</td>\n",
              "      <td>-1.0</td>\n",
              "      <td>0.0</td>\n",
              "    </tr>\n",
              "    <tr>\n",
              "      <th>1116352</th>\n",
              "      <td>US</td>\n",
              "      <td>United States</td>\n",
              "      <td>California</td>\n",
              "      <td>NaN</td>\n",
              "      <td>NaN</td>\n",
              "      <td>US-CA</td>\n",
              "      <td>NaN</td>\n",
              "      <td>2020-02-16</td>\n",
              "      <td>5.0</td>\n",
              "      <td>0.0</td>\n",
              "      <td>31.0</td>\n",
              "      <td>1.0</td>\n",
              "      <td>-1.0</td>\n",
              "      <td>-1.0</td>\n",
              "    </tr>\n",
              "  </tbody>\n",
              "</table>\n",
              "</div>"
            ],
            "text/plain": [
              "        country_region_code  ... residential_percent_change_from_baseline\n",
              "1116351                  US  ...                                      0.0\n",
              "1116352                  US  ...                                     -1.0\n",
              "\n",
              "[2 rows x 14 columns]"
            ]
          },
          "metadata": {
            "tags": []
          },
          "execution_count": 27
        }
      ]
    },
    {
      "cell_type": "markdown",
      "metadata": {
        "id": "fgMh975pFGD4",
        "colab_type": "text"
      },
      "source": [
        "## 'sub_region_2' column has the county data"
      ]
    },
    {
      "cell_type": "code",
      "metadata": {
        "id": "JcgJZTWKFEoB",
        "colab_type": "code",
        "colab": {
          "base_uri": "https://localhost:8080/",
          "height": 374
        },
        "outputId": "c0b40a26-d7ab-4113-ea19-771d48286c10"
      },
      "source": [
        "print(len(CA_mobility_data['sub_region_2'].unique()))\n",
        "print(CA_mobility_data.shape)\n",
        "CA_mobility_data['sub_region_2'].unique()"
      ],
      "execution_count": 28,
      "outputs": [
        {
          "output_type": "stream",
          "text": [
            "57\n",
            "(9480, 14)\n"
          ],
          "name": "stdout"
        },
        {
          "output_type": "execute_result",
          "data": {
            "text/plain": [
              "array([nan, 'Alameda County', 'Amador County', 'Butte County',\n",
              "       'Calaveras County', 'Colusa County', 'Contra Costa County',\n",
              "       'Del Norte County', 'El Dorado County', 'Fresno County',\n",
              "       'Glenn County', 'Humboldt County', 'Imperial County',\n",
              "       'Inyo County', 'Kern County', 'Kings County', 'Lake County',\n",
              "       'Lassen County', 'Los Angeles County', 'Madera County',\n",
              "       'Marin County', 'Mariposa County', 'Mendocino County',\n",
              "       'Merced County', 'Modoc County', 'Mono County', 'Monterey County',\n",
              "       'Napa County', 'Nevada County', 'Orange County', 'Placer County',\n",
              "       'Plumas County', 'Riverside County', 'Sacramento County',\n",
              "       'San Benito County', 'San Bernardino County', 'San Diego County',\n",
              "       'San Francisco County', 'San Joaquin County',\n",
              "       'San Luis Obispo County', 'San Mateo County',\n",
              "       'Santa Barbara County', 'Santa Clara County', 'Santa Cruz County',\n",
              "       'Shasta County', 'Siskiyou County', 'Solano County',\n",
              "       'Sonoma County', 'Stanislaus County', 'Sutter County',\n",
              "       'Tehama County', 'Trinity County', 'Tulare County',\n",
              "       'Tuolumne County', 'Ventura County', 'Yolo County', 'Yuba County'],\n",
              "      dtype=object)"
            ]
          },
          "metadata": {
            "tags": []
          },
          "execution_count": 28
        }
      ]
    },
    {
      "cell_type": "markdown",
      "metadata": {
        "id": "2dtJOz8TLOX7",
        "colab_type": "text"
      },
      "source": [
        "#### Dropping nan from county data"
      ]
    },
    {
      "cell_type": "code",
      "metadata": {
        "id": "3jwuw9JQFYU4",
        "colab_type": "code",
        "colab": {
          "base_uri": "https://localhost:8080/",
          "height": 182
        },
        "outputId": "969ecbc1-827a-4590-d55d-485280c28831"
      },
      "source": [
        "CA_mobility_data = CA_mobility_data.dropna(subset=['sub_region_2'])\n",
        "print(CA_mobility_data.shape)\n",
        "CA_mobility_data.head(2)\n",
        "#CA_mobility_data[CA_mobility_data['sub_region_2'] == nan]"
      ],
      "execution_count": 29,
      "outputs": [
        {
          "output_type": "stream",
          "text": [
            "(9312, 14)\n"
          ],
          "name": "stdout"
        },
        {
          "output_type": "execute_result",
          "data": {
            "text/html": [
              "<div>\n",
              "<style scoped>\n",
              "    .dataframe tbody tr th:only-of-type {\n",
              "        vertical-align: middle;\n",
              "    }\n",
              "\n",
              "    .dataframe tbody tr th {\n",
              "        vertical-align: top;\n",
              "    }\n",
              "\n",
              "    .dataframe thead th {\n",
              "        text-align: right;\n",
              "    }\n",
              "</style>\n",
              "<table border=\"1\" class=\"dataframe\">\n",
              "  <thead>\n",
              "    <tr style=\"text-align: right;\">\n",
              "      <th></th>\n",
              "      <th>country_region_code</th>\n",
              "      <th>country_region</th>\n",
              "      <th>sub_region_1</th>\n",
              "      <th>sub_region_2</th>\n",
              "      <th>metro_area</th>\n",
              "      <th>iso_3166_2_code</th>\n",
              "      <th>census_fips_code</th>\n",
              "      <th>date</th>\n",
              "      <th>retail_and_recreation_percent_change_from_baseline</th>\n",
              "      <th>grocery_and_pharmacy_percent_change_from_baseline</th>\n",
              "      <th>parks_percent_change_from_baseline</th>\n",
              "      <th>transit_stations_percent_change_from_baseline</th>\n",
              "      <th>workplaces_percent_change_from_baseline</th>\n",
              "      <th>residential_percent_change_from_baseline</th>\n",
              "    </tr>\n",
              "  </thead>\n",
              "  <tbody>\n",
              "    <tr>\n",
              "      <th>1116519</th>\n",
              "      <td>US</td>\n",
              "      <td>United States</td>\n",
              "      <td>California</td>\n",
              "      <td>Alameda County</td>\n",
              "      <td>NaN</td>\n",
              "      <td>NaN</td>\n",
              "      <td>6001.0</td>\n",
              "      <td>2020-02-15</td>\n",
              "      <td>1.0</td>\n",
              "      <td>0.0</td>\n",
              "      <td>22.0</td>\n",
              "      <td>1.0</td>\n",
              "      <td>0.0</td>\n",
              "      <td>-1.0</td>\n",
              "    </tr>\n",
              "    <tr>\n",
              "      <th>1116520</th>\n",
              "      <td>US</td>\n",
              "      <td>United States</td>\n",
              "      <td>California</td>\n",
              "      <td>Alameda County</td>\n",
              "      <td>NaN</td>\n",
              "      <td>NaN</td>\n",
              "      <td>6001.0</td>\n",
              "      <td>2020-02-16</td>\n",
              "      <td>7.0</td>\n",
              "      <td>0.0</td>\n",
              "      <td>24.0</td>\n",
              "      <td>5.0</td>\n",
              "      <td>1.0</td>\n",
              "      <td>-2.0</td>\n",
              "    </tr>\n",
              "  </tbody>\n",
              "</table>\n",
              "</div>"
            ],
            "text/plain": [
              "        country_region_code  ... residential_percent_change_from_baseline\n",
              "1116519                  US  ...                                     -1.0\n",
              "1116520                  US  ...                                     -2.0\n",
              "\n",
              "[2 rows x 14 columns]"
            ]
          },
          "metadata": {
            "tags": []
          },
          "execution_count": 29
        }
      ]
    },
    {
      "cell_type": "markdown",
      "metadata": {
        "id": "Ma5eZctHLDBa",
        "colab_type": "text"
      },
      "source": [
        "## Analysing one county for understanding (Alameda County)"
      ]
    },
    {
      "cell_type": "code",
      "metadata": {
        "id": "TZ-d4xAUK0eo",
        "colab_type": "code",
        "colab": {
          "base_uri": "https://localhost:8080/",
          "height": 326
        },
        "outputId": "0fd13647-c314-49c1-f475-d1011acc28ff"
      },
      "source": [
        "alameda_mobility_data = CA_mobility_data[CA_mobility_data['sub_region_2'] == 'Alameda County']\n",
        "print(alameda_mobility_data.shape)\n",
        "alameda_mobility_data.head()\n"
      ],
      "execution_count": 30,
      "outputs": [
        {
          "output_type": "stream",
          "text": [
            "(168, 14)\n"
          ],
          "name": "stdout"
        },
        {
          "output_type": "execute_result",
          "data": {
            "text/html": [
              "<div>\n",
              "<style scoped>\n",
              "    .dataframe tbody tr th:only-of-type {\n",
              "        vertical-align: middle;\n",
              "    }\n",
              "\n",
              "    .dataframe tbody tr th {\n",
              "        vertical-align: top;\n",
              "    }\n",
              "\n",
              "    .dataframe thead th {\n",
              "        text-align: right;\n",
              "    }\n",
              "</style>\n",
              "<table border=\"1\" class=\"dataframe\">\n",
              "  <thead>\n",
              "    <tr style=\"text-align: right;\">\n",
              "      <th></th>\n",
              "      <th>country_region_code</th>\n",
              "      <th>country_region</th>\n",
              "      <th>sub_region_1</th>\n",
              "      <th>sub_region_2</th>\n",
              "      <th>metro_area</th>\n",
              "      <th>iso_3166_2_code</th>\n",
              "      <th>census_fips_code</th>\n",
              "      <th>date</th>\n",
              "      <th>retail_and_recreation_percent_change_from_baseline</th>\n",
              "      <th>grocery_and_pharmacy_percent_change_from_baseline</th>\n",
              "      <th>parks_percent_change_from_baseline</th>\n",
              "      <th>transit_stations_percent_change_from_baseline</th>\n",
              "      <th>workplaces_percent_change_from_baseline</th>\n",
              "      <th>residential_percent_change_from_baseline</th>\n",
              "    </tr>\n",
              "  </thead>\n",
              "  <tbody>\n",
              "    <tr>\n",
              "      <th>1116519</th>\n",
              "      <td>US</td>\n",
              "      <td>United States</td>\n",
              "      <td>California</td>\n",
              "      <td>Alameda County</td>\n",
              "      <td>NaN</td>\n",
              "      <td>NaN</td>\n",
              "      <td>6001.0</td>\n",
              "      <td>2020-02-15</td>\n",
              "      <td>1.0</td>\n",
              "      <td>0.0</td>\n",
              "      <td>22.0</td>\n",
              "      <td>1.0</td>\n",
              "      <td>0.0</td>\n",
              "      <td>-1.0</td>\n",
              "    </tr>\n",
              "    <tr>\n",
              "      <th>1116520</th>\n",
              "      <td>US</td>\n",
              "      <td>United States</td>\n",
              "      <td>California</td>\n",
              "      <td>Alameda County</td>\n",
              "      <td>NaN</td>\n",
              "      <td>NaN</td>\n",
              "      <td>6001.0</td>\n",
              "      <td>2020-02-16</td>\n",
              "      <td>7.0</td>\n",
              "      <td>0.0</td>\n",
              "      <td>24.0</td>\n",
              "      <td>5.0</td>\n",
              "      <td>1.0</td>\n",
              "      <td>-2.0</td>\n",
              "    </tr>\n",
              "    <tr>\n",
              "      <th>1116521</th>\n",
              "      <td>US</td>\n",
              "      <td>United States</td>\n",
              "      <td>California</td>\n",
              "      <td>Alameda County</td>\n",
              "      <td>NaN</td>\n",
              "      <td>NaN</td>\n",
              "      <td>6001.0</td>\n",
              "      <td>2020-02-17</td>\n",
              "      <td>13.0</td>\n",
              "      <td>1.0</td>\n",
              "      <td>55.0</td>\n",
              "      <td>-31.0</td>\n",
              "      <td>-53.0</td>\n",
              "      <td>11.0</td>\n",
              "    </tr>\n",
              "    <tr>\n",
              "      <th>1116522</th>\n",
              "      <td>US</td>\n",
              "      <td>United States</td>\n",
              "      <td>California</td>\n",
              "      <td>Alameda County</td>\n",
              "      <td>NaN</td>\n",
              "      <td>NaN</td>\n",
              "      <td>6001.0</td>\n",
              "      <td>2020-02-18</td>\n",
              "      <td>-2.0</td>\n",
              "      <td>3.0</td>\n",
              "      <td>21.0</td>\n",
              "      <td>3.0</td>\n",
              "      <td>0.0</td>\n",
              "      <td>0.0</td>\n",
              "    </tr>\n",
              "    <tr>\n",
              "      <th>1116523</th>\n",
              "      <td>US</td>\n",
              "      <td>United States</td>\n",
              "      <td>California</td>\n",
              "      <td>Alameda County</td>\n",
              "      <td>NaN</td>\n",
              "      <td>NaN</td>\n",
              "      <td>6001.0</td>\n",
              "      <td>2020-02-19</td>\n",
              "      <td>-1.0</td>\n",
              "      <td>0.0</td>\n",
              "      <td>14.0</td>\n",
              "      <td>1.0</td>\n",
              "      <td>0.0</td>\n",
              "      <td>0.0</td>\n",
              "    </tr>\n",
              "  </tbody>\n",
              "</table>\n",
              "</div>"
            ],
            "text/plain": [
              "        country_region_code  ... residential_percent_change_from_baseline\n",
              "1116519                  US  ...                                     -1.0\n",
              "1116520                  US  ...                                     -2.0\n",
              "1116521                  US  ...                                     11.0\n",
              "1116522                  US  ...                                      0.0\n",
              "1116523                  US  ...                                      0.0\n",
              "\n",
              "[5 rows x 14 columns]"
            ]
          },
          "metadata": {
            "tags": []
          },
          "execution_count": 30
        }
      ]
    },
    {
      "cell_type": "code",
      "metadata": {
        "id": "JLmOwm5UMcYA",
        "colab_type": "code",
        "colab": {
          "base_uri": "https://localhost:8080/",
          "height": 326
        },
        "outputId": "4f84093b-8113-42cd-ccc0-ab7ee39e2404"
      },
      "source": [
        "orange_mobility_data = CA_mobility_data[CA_mobility_data['sub_region_2'] == 'Orange County']\n",
        "print(orange_mobility_data.shape)\n",
        "orange_mobility_data.head()"
      ],
      "execution_count": 31,
      "outputs": [
        {
          "output_type": "stream",
          "text": [
            "(168, 14)\n"
          ],
          "name": "stdout"
        },
        {
          "output_type": "execute_result",
          "data": {
            "text/html": [
              "<div>\n",
              "<style scoped>\n",
              "    .dataframe tbody tr th:only-of-type {\n",
              "        vertical-align: middle;\n",
              "    }\n",
              "\n",
              "    .dataframe tbody tr th {\n",
              "        vertical-align: top;\n",
              "    }\n",
              "\n",
              "    .dataframe thead th {\n",
              "        text-align: right;\n",
              "    }\n",
              "</style>\n",
              "<table border=\"1\" class=\"dataframe\">\n",
              "  <thead>\n",
              "    <tr style=\"text-align: right;\">\n",
              "      <th></th>\n",
              "      <th>country_region_code</th>\n",
              "      <th>country_region</th>\n",
              "      <th>sub_region_1</th>\n",
              "      <th>sub_region_2</th>\n",
              "      <th>metro_area</th>\n",
              "      <th>iso_3166_2_code</th>\n",
              "      <th>census_fips_code</th>\n",
              "      <th>date</th>\n",
              "      <th>retail_and_recreation_percent_change_from_baseline</th>\n",
              "      <th>grocery_and_pharmacy_percent_change_from_baseline</th>\n",
              "      <th>parks_percent_change_from_baseline</th>\n",
              "      <th>transit_stations_percent_change_from_baseline</th>\n",
              "      <th>workplaces_percent_change_from_baseline</th>\n",
              "      <th>residential_percent_change_from_baseline</th>\n",
              "    </tr>\n",
              "  </thead>\n",
              "  <tbody>\n",
              "    <tr>\n",
              "      <th>1121175</th>\n",
              "      <td>US</td>\n",
              "      <td>United States</td>\n",
              "      <td>California</td>\n",
              "      <td>Orange County</td>\n",
              "      <td>NaN</td>\n",
              "      <td>NaN</td>\n",
              "      <td>6059.0</td>\n",
              "      <td>2020-02-15</td>\n",
              "      <td>0.0</td>\n",
              "      <td>0.0</td>\n",
              "      <td>9.0</td>\n",
              "      <td>0.0</td>\n",
              "      <td>0.0</td>\n",
              "      <td>0.0</td>\n",
              "    </tr>\n",
              "    <tr>\n",
              "      <th>1121176</th>\n",
              "      <td>US</td>\n",
              "      <td>United States</td>\n",
              "      <td>California</td>\n",
              "      <td>Orange County</td>\n",
              "      <td>NaN</td>\n",
              "      <td>NaN</td>\n",
              "      <td>6059.0</td>\n",
              "      <td>2020-02-16</td>\n",
              "      <td>4.0</td>\n",
              "      <td>-1.0</td>\n",
              "      <td>22.0</td>\n",
              "      <td>-3.0</td>\n",
              "      <td>0.0</td>\n",
              "      <td>-1.0</td>\n",
              "    </tr>\n",
              "    <tr>\n",
              "      <th>1121177</th>\n",
              "      <td>US</td>\n",
              "      <td>United States</td>\n",
              "      <td>California</td>\n",
              "      <td>Orange County</td>\n",
              "      <td>NaN</td>\n",
              "      <td>NaN</td>\n",
              "      <td>6059.0</td>\n",
              "      <td>2020-02-17</td>\n",
              "      <td>10.0</td>\n",
              "      <td>1.0</td>\n",
              "      <td>34.0</td>\n",
              "      <td>-10.0</td>\n",
              "      <td>-33.0</td>\n",
              "      <td>6.0</td>\n",
              "    </tr>\n",
              "    <tr>\n",
              "      <th>1121178</th>\n",
              "      <td>US</td>\n",
              "      <td>United States</td>\n",
              "      <td>California</td>\n",
              "      <td>Orange County</td>\n",
              "      <td>NaN</td>\n",
              "      <td>NaN</td>\n",
              "      <td>6059.0</td>\n",
              "      <td>2020-02-18</td>\n",
              "      <td>1.0</td>\n",
              "      <td>-2.0</td>\n",
              "      <td>7.0</td>\n",
              "      <td>3.0</td>\n",
              "      <td>2.0</td>\n",
              "      <td>0.0</td>\n",
              "    </tr>\n",
              "    <tr>\n",
              "      <th>1121179</th>\n",
              "      <td>US</td>\n",
              "      <td>United States</td>\n",
              "      <td>California</td>\n",
              "      <td>Orange County</td>\n",
              "      <td>NaN</td>\n",
              "      <td>NaN</td>\n",
              "      <td>6059.0</td>\n",
              "      <td>2020-02-19</td>\n",
              "      <td>0.0</td>\n",
              "      <td>-2.0</td>\n",
              "      <td>8.0</td>\n",
              "      <td>2.0</td>\n",
              "      <td>2.0</td>\n",
              "      <td>0.0</td>\n",
              "    </tr>\n",
              "  </tbody>\n",
              "</table>\n",
              "</div>"
            ],
            "text/plain": [
              "        country_region_code  ... residential_percent_change_from_baseline\n",
              "1121175                  US  ...                                      0.0\n",
              "1121176                  US  ...                                     -1.0\n",
              "1121177                  US  ...                                      6.0\n",
              "1121178                  US  ...                                      0.0\n",
              "1121179                  US  ...                                      0.0\n",
              "\n",
              "[5 rows x 14 columns]"
            ]
          },
          "metadata": {
            "tags": []
          },
          "execution_count": 31
        }
      ]
    },
    {
      "cell_type": "markdown",
      "metadata": {
        "id": "M6ZHb1QHMHjW",
        "colab_type": "text"
      },
      "source": [
        "### Research note:\n",
        "We have covid-19 data for countywie from 01/22/2020. Google mobility data is available from 02/15/2020. According to the data format, we have google mobility data only from week 5."
      ]
    },
    {
      "cell_type": "markdown",
      "metadata": {
        "id": "5GE_OQjjMkA2",
        "colab_type": "text"
      },
      "source": [
        "**Coding Logic:**\n",
        "* Get the minimum date (Start date )\n",
        "* Find the day for start date\n",
        "* **Filter data**: If the start date of the record is after Friday. We can't compute the average mobility with 2 -3 days data for the week. Hence drop such date from processing.\n",
        "* Get the maximum date (End date)\n",
        "* Find the day for end date\n",
        "* **Filter data**: If the start date of the record is before or on Tuesday, drop such date from processing for the above mentioned reason\n"
      ]
    },
    {
      "cell_type": "code",
      "metadata": {
        "id": "VKnq_yEOLe_v",
        "colab_type": "code",
        "colab": {
          "base_uri": "https://localhost:8080/",
          "height": 85
        },
        "outputId": "886ff944-da92-41d5-8f24-69468bec7398"
      },
      "source": [
        "startDate = alameda_mobility_data['date'].min()\n",
        "endDate = alameda_mobility_data['date'].max()\n",
        "\n",
        "print(startDate)\n",
        "print(endDate)\n",
        "\n",
        "from datetime import datetime, timedelta\n",
        "\n",
        "#dt_object = datetime.fromtimestamp(date)\n",
        "day_name= ['Monday', 'Tuesday', 'Wednesday', 'Thursday', 'Friday', 'Saturday','Sunday']\n",
        "\n",
        "starting_day = datetime.strptime(startDate, '%Y-%m-%d').weekday()\n",
        "new_starting_date = datetime.strptime(startDate, '%Y-%m-%d')\n",
        "if(starting_day >= 4): # which is more than Friday\n",
        "  new_starting_day = 6 - starting_day\n",
        "  starting_day = datetime.strptime(startDate, '%Y-%m-%d').weekday()\n",
        "  new_starting_date = datetime.strptime(startDate, '%Y-%m-%d') + timedelta(days=new_starting_day)\n",
        "\n",
        "\n",
        "ending_day = datetime.strptime(endDate, '%Y-%m-%d').weekday()\n",
        "\n",
        "new_ending_date = datetime.strptime(endDate, '%Y-%m-%d')\n",
        "if(ending_day <= 1): # which is less than Tuesday\n",
        "  new_ending_day = ending_day\n",
        "  new_ending_date = datetime.strptime(endDate, '%Y-%m-%d') - timedelta(days=new_ending_day)\n",
        "\n",
        "new_starting_date = new_starting_date.strftime('%Y-%m-%d')\n",
        "new_ending_date = new_ending_date.strftime('%Y-%m-%d')\n",
        "\n",
        "print(new_starting_date)\n",
        "print(new_ending_date)"
      ],
      "execution_count": 56,
      "outputs": [
        {
          "output_type": "stream",
          "text": [
            "2020-02-15\n",
            "2020-07-31\n",
            "2020-02-16\n",
            "2020-07-31\n"
          ],
          "name": "stdout"
        }
      ]
    },
    {
      "cell_type": "code",
      "metadata": {
        "id": "Sp4Y8kRcP4LH",
        "colab_type": "code",
        "colab": {
          "base_uri": "https://localhost:8080/",
          "height": 326
        },
        "outputId": "72fbea75-fc09-4767-ad05-b59787550d10"
      },
      "source": [
        "filtered_alameda_county = alameda_mobility_data[(alameda_mobility_data['date'] >= new_starting_date) &(alameda_mobility_data['date']<= new_ending_date)]\n",
        "\n",
        "print(filtered_alameda_county.shape)\n",
        "filtered_alameda_county.head()\n"
      ],
      "execution_count": 57,
      "outputs": [
        {
          "output_type": "stream",
          "text": [
            "(167, 14)\n"
          ],
          "name": "stdout"
        },
        {
          "output_type": "execute_result",
          "data": {
            "text/html": [
              "<div>\n",
              "<style scoped>\n",
              "    .dataframe tbody tr th:only-of-type {\n",
              "        vertical-align: middle;\n",
              "    }\n",
              "\n",
              "    .dataframe tbody tr th {\n",
              "        vertical-align: top;\n",
              "    }\n",
              "\n",
              "    .dataframe thead th {\n",
              "        text-align: right;\n",
              "    }\n",
              "</style>\n",
              "<table border=\"1\" class=\"dataframe\">\n",
              "  <thead>\n",
              "    <tr style=\"text-align: right;\">\n",
              "      <th></th>\n",
              "      <th>country_region_code</th>\n",
              "      <th>country_region</th>\n",
              "      <th>sub_region_1</th>\n",
              "      <th>sub_region_2</th>\n",
              "      <th>metro_area</th>\n",
              "      <th>iso_3166_2_code</th>\n",
              "      <th>census_fips_code</th>\n",
              "      <th>date</th>\n",
              "      <th>retail_and_recreation_percent_change_from_baseline</th>\n",
              "      <th>grocery_and_pharmacy_percent_change_from_baseline</th>\n",
              "      <th>parks_percent_change_from_baseline</th>\n",
              "      <th>transit_stations_percent_change_from_baseline</th>\n",
              "      <th>workplaces_percent_change_from_baseline</th>\n",
              "      <th>residential_percent_change_from_baseline</th>\n",
              "    </tr>\n",
              "  </thead>\n",
              "  <tbody>\n",
              "    <tr>\n",
              "      <th>1116520</th>\n",
              "      <td>US</td>\n",
              "      <td>United States</td>\n",
              "      <td>California</td>\n",
              "      <td>Alameda County</td>\n",
              "      <td>NaN</td>\n",
              "      <td>NaN</td>\n",
              "      <td>6001.0</td>\n",
              "      <td>2020-02-16</td>\n",
              "      <td>7.0</td>\n",
              "      <td>0.0</td>\n",
              "      <td>24.0</td>\n",
              "      <td>5.0</td>\n",
              "      <td>1.0</td>\n",
              "      <td>-2.0</td>\n",
              "    </tr>\n",
              "    <tr>\n",
              "      <th>1116521</th>\n",
              "      <td>US</td>\n",
              "      <td>United States</td>\n",
              "      <td>California</td>\n",
              "      <td>Alameda County</td>\n",
              "      <td>NaN</td>\n",
              "      <td>NaN</td>\n",
              "      <td>6001.0</td>\n",
              "      <td>2020-02-17</td>\n",
              "      <td>13.0</td>\n",
              "      <td>1.0</td>\n",
              "      <td>55.0</td>\n",
              "      <td>-31.0</td>\n",
              "      <td>-53.0</td>\n",
              "      <td>11.0</td>\n",
              "    </tr>\n",
              "    <tr>\n",
              "      <th>1116522</th>\n",
              "      <td>US</td>\n",
              "      <td>United States</td>\n",
              "      <td>California</td>\n",
              "      <td>Alameda County</td>\n",
              "      <td>NaN</td>\n",
              "      <td>NaN</td>\n",
              "      <td>6001.0</td>\n",
              "      <td>2020-02-18</td>\n",
              "      <td>-2.0</td>\n",
              "      <td>3.0</td>\n",
              "      <td>21.0</td>\n",
              "      <td>3.0</td>\n",
              "      <td>0.0</td>\n",
              "      <td>0.0</td>\n",
              "    </tr>\n",
              "    <tr>\n",
              "      <th>1116523</th>\n",
              "      <td>US</td>\n",
              "      <td>United States</td>\n",
              "      <td>California</td>\n",
              "      <td>Alameda County</td>\n",
              "      <td>NaN</td>\n",
              "      <td>NaN</td>\n",
              "      <td>6001.0</td>\n",
              "      <td>2020-02-19</td>\n",
              "      <td>-1.0</td>\n",
              "      <td>0.0</td>\n",
              "      <td>14.0</td>\n",
              "      <td>1.0</td>\n",
              "      <td>0.0</td>\n",
              "      <td>0.0</td>\n",
              "    </tr>\n",
              "    <tr>\n",
              "      <th>1116524</th>\n",
              "      <td>US</td>\n",
              "      <td>United States</td>\n",
              "      <td>California</td>\n",
              "      <td>Alameda County</td>\n",
              "      <td>NaN</td>\n",
              "      <td>NaN</td>\n",
              "      <td>6001.0</td>\n",
              "      <td>2020-02-20</td>\n",
              "      <td>1.0</td>\n",
              "      <td>1.0</td>\n",
              "      <td>13.0</td>\n",
              "      <td>2.0</td>\n",
              "      <td>0.0</td>\n",
              "      <td>0.0</td>\n",
              "    </tr>\n",
              "  </tbody>\n",
              "</table>\n",
              "</div>"
            ],
            "text/plain": [
              "        country_region_code  ... residential_percent_change_from_baseline\n",
              "1116520                  US  ...                                     -2.0\n",
              "1116521                  US  ...                                     11.0\n",
              "1116522                  US  ...                                      0.0\n",
              "1116523                  US  ...                                      0.0\n",
              "1116524                  US  ...                                      0.0\n",
              "\n",
              "[5 rows x 14 columns]"
            ]
          },
          "metadata": {
            "tags": []
          },
          "execution_count": 57
        }
      ]
    },
    {
      "cell_type": "code",
      "metadata": {
        "id": "1-hUwrYmTnO0",
        "colab_type": "code",
        "colab": {
          "base_uri": "https://localhost:8080/",
          "height": 272
        },
        "outputId": "945608ed-b68a-47f3-8967-1fa7bb2a6a6b"
      },
      "source": [
        "filtered_alameda_county.dtypes"
      ],
      "execution_count": 58,
      "outputs": [
        {
          "output_type": "execute_result",
          "data": {
            "text/plain": [
              "country_region_code                                    object\n",
              "country_region                                         object\n",
              "sub_region_1                                           object\n",
              "sub_region_2                                           object\n",
              "metro_area                                             object\n",
              "iso_3166_2_code                                        object\n",
              "census_fips_code                                      float64\n",
              "date                                                   object\n",
              "retail_and_recreation_percent_change_from_baseline    float64\n",
              "grocery_and_pharmacy_percent_change_from_baseline     float64\n",
              "parks_percent_change_from_baseline                    float64\n",
              "transit_stations_percent_change_from_baseline         float64\n",
              "workplaces_percent_change_from_baseline               float64\n",
              "residential_percent_change_from_baseline              float64\n",
              "dtype: object"
            ]
          },
          "metadata": {
            "tags": []
          },
          "execution_count": 58
        }
      ]
    },
    {
      "cell_type": "markdown",
      "metadata": {
        "id": "QF7tMvDgV3t6",
        "colab_type": "text"
      },
      "source": [
        "# Data computation - Average mobility for the week"
      ]
    },
    {
      "cell_type": "markdown",
      "metadata": {
        "id": "LzbINsoMVlpf",
        "colab_type": "text"
      },
      "source": [
        "**Coding logic**:\n",
        "* We have daily data, we are converting to mean of the week so that we can know on a average how people have computed in a county"
      ]
    },
    {
      "cell_type": "code",
      "metadata": {
        "id": "GLOutbVtVlOW",
        "colab_type": "code",
        "colab": {
          "base_uri": "https://localhost:8080/",
          "height": 34
        },
        "outputId": "e418bb61-c4ca-425c-b0d5-c8a00ec077b0"
      },
      "source": [
        "filtered_alameda_county.shape[0] / 7"
      ],
      "execution_count": 60,
      "outputs": [
        {
          "output_type": "execute_result",
          "data": {
            "text/plain": [
              "23.857142857142858"
            ]
          },
          "metadata": {
            "tags": []
          },
          "execution_count": 60
        }
      ]
    },
    {
      "cell_type": "code",
      "metadata": {
        "id": "rj_ZsTWUWW-q",
        "colab_type": "code",
        "colab": {
          "base_uri": "https://localhost:8080/",
          "height": 68
        },
        "outputId": "1844782f-3a9f-4337-9407-e64871d2475d"
      },
      "source": [
        "minDate = filtered_alameda_county['date'].min()\n",
        "print(minDate)\n",
        "maxDate = filtered_alameda_county['date'].max()\n",
        "print(maxDate)\n",
        "dateList = filtered_alameda_county['date'].unique()\n",
        "print(len(dateList))\n",
        "\n",
        "dateList.sort()"
      ],
      "execution_count": 88,
      "outputs": [
        {
          "output_type": "stream",
          "text": [
            "2020-02-16\n",
            "2020-07-31\n",
            "167\n"
          ],
          "name": "stdout"
        }
      ]
    },
    {
      "cell_type": "code",
      "metadata": {
        "id": "tlf1NwXGWewd",
        "colab_type": "code",
        "colab": {
          "base_uri": "https://localhost:8080/",
          "height": 34
        },
        "outputId": "ed050104-a3ec-45fd-cb80-ba3a5364fb3b"
      },
      "source": [
        "day_name= ['Monday', 'Tuesday', 'Wednesday', 'Thursday', 'Friday', 'Saturday','Sunday']\n",
        "\n",
        "day = datetime.strptime(minDate, '%Y-%m-%d').weekday()\n",
        "if day == 6:\n",
        "  day =0\n",
        "elif day < 6:\n",
        "  day += 1\n",
        "\n",
        "print(day)"
      ],
      "execution_count": 93,
      "outputs": [
        {
          "output_type": "stream",
          "text": [
            "0\n"
          ],
          "name": "stdout"
        }
      ]
    },
    {
      "cell_type": "code",
      "metadata": {
        "id": "kKuYZhrrYOw0",
        "colab_type": "code",
        "colab": {
          "base_uri": "https://localhost:8080/",
          "height": 34
        },
        "outputId": "ff3df89e-10f4-4d44-9b21-589c7a565b4a"
      },
      "source": [
        "len(dateList)"
      ],
      "execution_count": 73,
      "outputs": [
        {
          "output_type": "execute_result",
          "data": {
            "text/plain": [
              "167"
            ]
          },
          "metadata": {
            "tags": []
          },
          "execution_count": 73
        }
      ]
    },
    {
      "cell_type": "code",
      "metadata": {
        "id": "ZGiQGmO_WSxL",
        "colab_type": "code",
        "colab": {}
      },
      "source": [
        "index = 0\n",
        "count = 0\n",
        "lst = []\n",
        "while index < len(dateList):\n",
        "  row = []\n",
        "  j = 7 - day;\n",
        "  if index+j >= len(dateList):\n",
        "    break\n",
        "  # print(dateList[index:index+j])\n",
        "  #print(j)\n",
        "  weekRange = dateList[index:index+j]\n",
        " \n",
        "  row.append(count)\n",
        "  row.append(weekRange.min())\n",
        "  row.append(weekRange.max())\n",
        "  \n",
        "  \n",
        "  df = filtered_alameda_county[(filtered_alameda_county['date'] >= dateList[index]) & (filtered_alameda_county['date'] < dateList[index+j] )]\n",
        "  #print(df['sub_region_2'].tolist()[0])\n",
        "  row.append(df['sub_region_2'].tolist()[0])\n",
        "  row.append(df['census_fips_code'].tolist()[0])\n",
        "  row.append(df['retail_and_recreation_percent_change_from_baseline'].mean())\n",
        "  row.append(df['grocery_and_pharmacy_percent_change_from_baseline'].mean())\n",
        "  row.append(df['parks_percent_change_from_baseline'].mean())\n",
        "  row.append(df['transit_stations_percent_change_from_baseline'].mean())\n",
        "  row.append(df['workplaces_percent_change_from_baseline'].mean())\n",
        "  row.append(df['residential_percent_change_from_baseline'].mean())\n",
        "\n",
        "  #print(row)\n",
        "  lst.append(row)\n",
        "  index = index+j\n",
        "  day = 0\n",
        "  count +=1\n",
        "  #print('index in end ',index)\n",
        "  "
      ],
      "execution_count": 100,
      "outputs": []
    },
    {
      "cell_type": "code",
      "metadata": {
        "id": "d3uRV_8jaaoW",
        "colab_type": "code",
        "colab": {
          "base_uri": "https://localhost:8080/",
          "height": 165
        },
        "outputId": "e665a6a5-9ab5-4ab0-a26b-cfdd5a69266f"
      },
      "source": [
        "alameda_mobility_df = pd.DataFrame(lst,index=None,columns=['Id','startDate','endDate','County','FIPS',\n",
        "                                                'retail_and_recreation_percent_change_from_baseline','grocery_and_pharmacy_percent_change_from_baseline',\n",
        "                                               'parks_percent_change_from_baseline','transit_stations_percent_change_from_baseline',\n",
        "                                               'workplaces_percent_change_from_baseline','residential_percent_change_from_baseline'])\n",
        "\n",
        "alameda_mobility_df.head(2)"
      ],
      "execution_count": 101,
      "outputs": [
        {
          "output_type": "execute_result",
          "data": {
            "text/html": [
              "<div>\n",
              "<style scoped>\n",
              "    .dataframe tbody tr th:only-of-type {\n",
              "        vertical-align: middle;\n",
              "    }\n",
              "\n",
              "    .dataframe tbody tr th {\n",
              "        vertical-align: top;\n",
              "    }\n",
              "\n",
              "    .dataframe thead th {\n",
              "        text-align: right;\n",
              "    }\n",
              "</style>\n",
              "<table border=\"1\" class=\"dataframe\">\n",
              "  <thead>\n",
              "    <tr style=\"text-align: right;\">\n",
              "      <th></th>\n",
              "      <th>Id</th>\n",
              "      <th>startDate</th>\n",
              "      <th>endDate</th>\n",
              "      <th>County</th>\n",
              "      <th>FIPS</th>\n",
              "      <th>retail_and_recreation_percent_change_from_baseline</th>\n",
              "      <th>grocery_and_pharmacy_percent_change_from_baseline</th>\n",
              "      <th>parks_percent_change_from_baseline</th>\n",
              "      <th>transit_stations_percent_change_from_baseline</th>\n",
              "      <th>workplaces_percent_change_from_baseline</th>\n",
              "      <th>residential_percent_change_from_baseline</th>\n",
              "    </tr>\n",
              "  </thead>\n",
              "  <tbody>\n",
              "    <tr>\n",
              "      <th>0</th>\n",
              "      <td>0</td>\n",
              "      <td>2020-02-16</td>\n",
              "      <td>2020-02-22</td>\n",
              "      <td>Alameda County</td>\n",
              "      <td>6001.0</td>\n",
              "      <td>2.857143</td>\n",
              "      <td>1.285714</td>\n",
              "      <td>21.857143</td>\n",
              "      <td>-3.285714</td>\n",
              "      <td>-6.428571</td>\n",
              "      <td>1.142857</td>\n",
              "    </tr>\n",
              "    <tr>\n",
              "      <th>1</th>\n",
              "      <td>1</td>\n",
              "      <td>2020-02-23</td>\n",
              "      <td>2020-02-29</td>\n",
              "      <td>Alameda County</td>\n",
              "      <td>6001.0</td>\n",
              "      <td>2.285714</td>\n",
              "      <td>3.428571</td>\n",
              "      <td>18.000000</td>\n",
              "      <td>3.285714</td>\n",
              "      <td>3.000000</td>\n",
              "      <td>-0.714286</td>\n",
              "    </tr>\n",
              "  </tbody>\n",
              "</table>\n",
              "</div>"
            ],
            "text/plain": [
              "   Id  ... residential_percent_change_from_baseline\n",
              "0   0  ...                                 1.142857\n",
              "1   1  ...                                -0.714286\n",
              "\n",
              "[2 rows x 11 columns]"
            ]
          },
          "metadata": {
            "tags": []
          },
          "execution_count": 101
        }
      ]
    },
    {
      "cell_type": "code",
      "metadata": {
        "id": "QgRjXr8AeguZ",
        "colab_type": "code",
        "colab": {
          "base_uri": "https://localhost:8080/",
          "height": 34
        },
        "outputId": "4d628efe-9f85-4417-d02e-322f2f0e6b13"
      },
      "source": [
        "alameda_mobility_df.shape"
      ],
      "execution_count": 108,
      "outputs": [
        {
          "output_type": "execute_result",
          "data": {
            "text/plain": [
              "(23, 11)"
            ]
          },
          "metadata": {
            "tags": []
          },
          "execution_count": 108
        }
      ]
    },
    {
      "cell_type": "markdown",
      "metadata": {
        "id": "b6UlDptLbckb",
        "colab_type": "text"
      },
      "source": [
        "## Converting the above work for all counties "
      ]
    },
    {
      "cell_type": "code",
      "metadata": {
        "id": "AMiw_94hbGQg",
        "colab_type": "code",
        "colab": {}
      },
      "source": [
        "\n",
        "day = datetime.strptime(minDate, '%Y-%m-%d').weekday()\n",
        "if day == 6:\n",
        "  day =0\n",
        "elif day < 6:\n",
        "  day += 1\n",
        "\n",
        "print(day)"
      ],
      "execution_count": null,
      "outputs": []
    },
    {
      "cell_type": "code",
      "metadata": {
        "id": "IvEJbS70dPwg",
        "colab_type": "code",
        "colab": {}
      },
      "source": [
        "def compute_mobility_average(countyName):\n",
        "  index = 0\n",
        "  count = 0\n",
        "  day = datetime.strptime(minDate, '%Y-%m-%d').weekday()\n",
        "  if day == 6:\n",
        "    day =0\n",
        "  elif day < 6:\n",
        "    day += 1\n",
        "  \n",
        "  while index < len(dateList):\n",
        "    row = []\n",
        "    j = 7 - day;\n",
        "    if index+j >= len(dateList):\n",
        "      break\n",
        "    # print(dateList[index:index+j])\n",
        "    #print(j)\n",
        "    weekRange = dateList[index:index+j]\n",
        "  \n",
        "    #row.append(count)\n",
        "    row.append(weekRange.min())\n",
        "    row.append(weekRange.max())\n",
        "    \n",
        "    \n",
        "    df = CA_mobility_data[(CA_mobility_data['sub_region_2'] == countyName) & (CA_mobility_data['date'] >= dateList[index]) & (CA_mobility_data['date'] < dateList[index+j] )]\n",
        "    #print(df['sub_region_2'].tolist()[0])\n",
        "    row.append(df['sub_region_2'].tolist()[0])\n",
        "    row.append(df['census_fips_code'].tolist()[0])\n",
        "    row.append(df['retail_and_recreation_percent_change_from_baseline'].mean())\n",
        "    row.append(df['grocery_and_pharmacy_percent_change_from_baseline'].mean())\n",
        "    row.append(df['parks_percent_change_from_baseline'].mean())\n",
        "    row.append(df['transit_stations_percent_change_from_baseline'].mean())\n",
        "    row.append(df['workplaces_percent_change_from_baseline'].mean())\n",
        "    row.append(df['residential_percent_change_from_baseline'].mean())\n",
        "\n",
        "    #print(row)\n",
        "    lst.append(row)\n",
        "    index = index+j\n",
        "    day = 0\n",
        "    count +=1\n",
        "  return lst\n",
        "  "
      ],
      "execution_count": 112,
      "outputs": []
    },
    {
      "cell_type": "code",
      "metadata": {
        "id": "QjXv4XAYdkVN",
        "colab_type": "code",
        "colab": {
          "base_uri": "https://localhost:8080/",
          "height": 34
        },
        "outputId": "a1666d98-1430-4caf-b8e2-270cf3eb3f76"
      },
      "source": [
        "county_names = CA_mobility_data['sub_region_2'].unique()\n",
        "print(len(county_names))\n",
        "lst = []\n",
        "for countyName in county_names:\n",
        "  compute_mobility_average(countyName)\n"
      ],
      "execution_count": 113,
      "outputs": [
        {
          "output_type": "stream",
          "text": [
            "56\n"
          ],
          "name": "stdout"
        }
      ]
    },
    {
      "cell_type": "code",
      "metadata": {
        "id": "0VpmcOy2eYIa",
        "colab_type": "code",
        "colab": {
          "base_uri": "https://localhost:8080/",
          "height": 182
        },
        "outputId": "e4e9240d-fdee-494c-8b49-acd9172f4ba7"
      },
      "source": [
        "CA_mobility_avg_df = pd.DataFrame(lst,index=None,columns=['startDate','endDate','County','FIPS',\n",
        "                                                'retail_and_recreation_percent_change_from_baseline','grocery_and_pharmacy_percent_change_from_baseline',\n",
        "                                               'parks_percent_change_from_baseline','transit_stations_percent_change_from_baseline',\n",
        "                                               'workplaces_percent_change_from_baseline','residential_percent_change_from_baseline'])\n",
        "\n",
        "print(CA_mobility_avg_df.shape)\n",
        "CA_mobility_avg_df.head(2)"
      ],
      "execution_count": 114,
      "outputs": [
        {
          "output_type": "stream",
          "text": [
            "(1288, 10)\n"
          ],
          "name": "stdout"
        },
        {
          "output_type": "execute_result",
          "data": {
            "text/html": [
              "<div>\n",
              "<style scoped>\n",
              "    .dataframe tbody tr th:only-of-type {\n",
              "        vertical-align: middle;\n",
              "    }\n",
              "\n",
              "    .dataframe tbody tr th {\n",
              "        vertical-align: top;\n",
              "    }\n",
              "\n",
              "    .dataframe thead th {\n",
              "        text-align: right;\n",
              "    }\n",
              "</style>\n",
              "<table border=\"1\" class=\"dataframe\">\n",
              "  <thead>\n",
              "    <tr style=\"text-align: right;\">\n",
              "      <th></th>\n",
              "      <th>startDate</th>\n",
              "      <th>endDate</th>\n",
              "      <th>County</th>\n",
              "      <th>FIPS</th>\n",
              "      <th>retail_and_recreation_percent_change_from_baseline</th>\n",
              "      <th>grocery_and_pharmacy_percent_change_from_baseline</th>\n",
              "      <th>parks_percent_change_from_baseline</th>\n",
              "      <th>transit_stations_percent_change_from_baseline</th>\n",
              "      <th>workplaces_percent_change_from_baseline</th>\n",
              "      <th>residential_percent_change_from_baseline</th>\n",
              "    </tr>\n",
              "  </thead>\n",
              "  <tbody>\n",
              "    <tr>\n",
              "      <th>0</th>\n",
              "      <td>2020-02-16</td>\n",
              "      <td>2020-02-22</td>\n",
              "      <td>Alameda County</td>\n",
              "      <td>6001.0</td>\n",
              "      <td>2.857143</td>\n",
              "      <td>1.285714</td>\n",
              "      <td>21.857143</td>\n",
              "      <td>-3.285714</td>\n",
              "      <td>-6.428571</td>\n",
              "      <td>1.142857</td>\n",
              "    </tr>\n",
              "    <tr>\n",
              "      <th>1</th>\n",
              "      <td>2020-02-23</td>\n",
              "      <td>2020-02-29</td>\n",
              "      <td>Alameda County</td>\n",
              "      <td>6001.0</td>\n",
              "      <td>2.285714</td>\n",
              "      <td>3.428571</td>\n",
              "      <td>18.000000</td>\n",
              "      <td>3.285714</td>\n",
              "      <td>3.000000</td>\n",
              "      <td>-0.714286</td>\n",
              "    </tr>\n",
              "  </tbody>\n",
              "</table>\n",
              "</div>"
            ],
            "text/plain": [
              "    startDate  ... residential_percent_change_from_baseline\n",
              "0  2020-02-16  ...                                 1.142857\n",
              "1  2020-02-23  ...                                -0.714286\n",
              "\n",
              "[2 rows x 10 columns]"
            ]
          },
          "metadata": {
            "tags": []
          },
          "execution_count": 114
        }
      ]
    },
    {
      "cell_type": "code",
      "metadata": {
        "id": "pnISiHE6d96F",
        "colab_type": "code",
        "colab": {
          "base_uri": "https://localhost:8080/",
          "height": 34
        },
        "outputId": "3ef54e52-6f31-4d18-9bc8-8579a79e880d"
      },
      "source": [
        "CA_mobility_avg_df.shape"
      ],
      "execution_count": 110,
      "outputs": [
        {
          "output_type": "execute_result",
          "data": {
            "text/plain": [
              "(1288, 11)"
            ]
          },
          "metadata": {
            "tags": []
          },
          "execution_count": 110
        }
      ]
    },
    {
      "cell_type": "code",
      "metadata": {
        "id": "zjfm06LOevyt",
        "colab_type": "code",
        "colab": {}
      },
      "source": [
        "CA_mobility_avg_df.to_csv(\"computed_CA_mobility_data.csv\",index=False)"
      ],
      "execution_count": 116,
      "outputs": []
    },
    {
      "cell_type": "markdown",
      "metadata": {
        "id": "Ksbh8oj5fS0b",
        "colab_type": "text"
      },
      "source": [
        "## Completed work\n",
        "\n",
        "* We have downloaded data from Google mobility.\n",
        "* we got 6 key factors from people mobility statistics \n",
        "  * retail_and_recreation_percent_change_from_baseline\n",
        "  * parks_percent_change_from_baseline\n",
        "  * grocery_and_pharmacy_percent_change_from_baseline \n",
        "  * transit_stations_percent_change_from_baseline\n",
        "  * residential_percent_change_from_baseline\n",
        "  * workplaces_percent_change_from_baseline\n",
        "\n",
        "* We have computed the mean metric for the date range and exported as CSV"
      ]
    }
  ]
}